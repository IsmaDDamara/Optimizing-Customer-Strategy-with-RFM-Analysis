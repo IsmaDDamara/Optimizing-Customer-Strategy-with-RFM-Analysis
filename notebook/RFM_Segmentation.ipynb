{
 "cells": [
  {
   "cell_type": "markdown",
   "id": "f0b9517f",
   "metadata": {
    "id": "3ky6isVnkk5b",
    "papermill": {
     "duration": 0.017493,
     "end_time": "2025-02-05T18:06:15.991802",
     "exception": false,
     "start_time": "2025-02-05T18:06:15.974309",
     "status": "completed"
    },
    "tags": []
   },
   "source": [
    "## **BUSSINES UNDERSTANDING**"
   ]
  },
  {
   "cell_type": "markdown",
   "id": "85c4f64d",
   "metadata": {
    "id": "TllCrx6Ml10-",
    "papermill": {
     "duration": 0.016874,
     "end_time": "2025-02-05T18:06:16.025404",
     "exception": false,
     "start_time": "2025-02-05T18:06:16.008530",
     "status": "completed"
    },
    "tags": []
   },
   "source": [
    "### **Latar Belakang**\n",
    "\n",
    "Damara Store adalah toko retail online yang menyediakan berbagai produk konsumen untuk memenuhi kebutuhan pelanggan. Dalam era digital yang kompetitif, menjaga loyalitas pelanggan menjadi tantangan utama bagi bisnis retail. Retensi pelanggan yang kuat tidak hanya mengurangi biaya akuisisi pelanggan baru tetapi juga membantu meningkatkan pendapatan melalui pembelian ulang. Oleh karena itu, memahami perilaku dan preferensi pelanggan menjadi kunci untuk menciptakan strategi pemasaran yang lebih relevan dan personal."
   ]
  },
  {
   "cell_type": "markdown",
   "id": "3191f271",
   "metadata": {
    "id": "f7RBj6e8mB0b",
    "papermill": {
     "duration": 0.016318,
     "end_time": "2025-02-05T18:06:16.058539",
     "exception": false,
     "start_time": "2025-02-05T18:06:16.042221",
     "status": "completed"
    },
    "tags": []
   },
   "source": [
    "### **Pertanyaan Bisnis**\n",
    "**Wawasan apa yang dapat diperoleh dari perilaku pelanggan untuk mengoptimalkan strategi pemasaran?**  \n",
    "   Bagaimana segmentasi pelanggan dapat digunakan untuk menciptakan kampanye pemasaran yang lebih efektif dan tepat sasaran?"
   ]
  },
  {
   "cell_type": "markdown",
   "id": "23cf967a",
   "metadata": {
    "id": "D-qZq7B9mGOr",
    "papermill": {
     "duration": 0.015875,
     "end_time": "2025-02-05T18:06:16.090580",
     "exception": false,
     "start_time": "2025-02-05T18:06:16.074705",
     "status": "completed"
    },
    "tags": []
   },
   "source": [
    "### **Tujuan**\n",
    "   Melakukan segmentasi pelanggan berdasarkan karakteristik atau perilaku tertentu untuk mendapatkan wawasan yang dapat digunakan dalam menyusun strategi pemasaran yang lebih efektif dan relevan."
   ]
  },
  {
   "cell_type": "markdown",
   "id": "3e43fd71",
   "metadata": {
    "id": "VgKgfBS1j0QD",
    "papermill": {
     "duration": 0.016436,
     "end_time": "2025-02-05T18:06:16.125433",
     "exception": false,
     "start_time": "2025-02-05T18:06:16.108997",
     "status": "completed"
    },
    "tags": []
   },
   "source": [
    "## **DATA UNDERSTANDING**"
   ]
  },
  {
   "cell_type": "markdown",
   "id": "f82cffd3",
   "metadata": {
    "id": "xv576J9emuWH",
    "papermill": {
     "duration": 0.015882,
     "end_time": "2025-02-05T18:06:16.157566",
     "exception": false,
     "start_time": "2025-02-05T18:06:16.141684",
     "status": "completed"
    },
    "tags": []
   },
   "source": [
    "### **Deskripsi Variabel Dataset**\n",
    "\n",
    "Dari dataset yang dimiliki terdapat beberapa data yang tersedia:\n",
    "1. `order_id`: ID unik untuk setiap pesanan.\n",
    "2. `product_code`: Kode unik untuk setiap produk yang dipesan.\n",
    "3. `product_name`: Nama produk yang dipesan.\n",
    "4. `quantity`: Jumlah produk dalam pesanan. Nilai negatif mungkin menunjukkan pengembalian produk.\n",
    "5. `order_date`: Tanggal dan waktu saat pesanan dilakukan.\n",
    "6. `price`: Harga per unit dari produk yang dipesan.\n",
    "7. `customer_id`: ID unik pelanggan yang melakukan pesanan."
   ]
  },
  {
   "cell_type": "markdown",
   "id": "36c92906",
   "metadata": {
    "id": "ly8RMCzjndDf",
    "papermill": {
     "duration": 0.015829,
     "end_time": "2025-02-05T18:06:16.189371",
     "exception": false,
     "start_time": "2025-02-05T18:06:16.173542",
     "status": "completed"
    },
    "tags": []
   },
   "source": [
    "### **Data Overview**"
   ]
  },
  {
   "cell_type": "code",
   "execution_count": 90,
   "id": "f76abf19",
   "metadata": {
    "execution": {
     "iopub.execute_input": "2025-02-05T18:06:16.223410Z",
     "iopub.status.busy": "2025-02-05T18:06:16.222883Z",
     "iopub.status.idle": "2025-02-05T18:06:17.214485Z",
     "shell.execute_reply": "2025-02-05T18:06:17.213334Z"
    },
    "id": "om0DwYCoxZBH",
    "papermill": {
     "duration": 1.011105,
     "end_time": "2025-02-05T18:06:17.216618",
     "exception": false,
     "start_time": "2025-02-05T18:06:16.205513",
     "status": "completed"
    },
    "tags": []
   },
   "outputs": [],
   "source": [
    "# Import library yang diperlukan\n",
    "import pandas as pd\n",
    "import numpy as np\n",
    "import datetime as dt\n",
    "\n",
    "# Import library viusalisasi\n",
    "import matplotlib.pyplot as plt"
   ]
  },
  {
   "cell_type": "code",
   "execution_count": 91,
   "id": "c3fbe68f",
   "metadata": {
    "execution": {
     "iopub.execute_input": "2025-02-05T18:06:17.252000Z",
     "iopub.status.busy": "2025-02-05T18:06:17.251475Z",
     "iopub.status.idle": "2025-02-05T18:06:18.210757Z",
     "shell.execute_reply": "2025-02-05T18:06:18.209187Z"
    },
    "executionInfo": {
     "elapsed": 1331,
     "status": "ok",
     "timestamp": 1738341877526,
     "user": {
      "displayName": "Isma Dian Damara",
      "userId": "03128721927476324285"
     },
     "user_tz": -420
    },
    "id": "SCOTJpE7xsYV",
    "outputId": "9255719e-7c9f-4622-aa8a-cfcf7bfd2a58",
    "papermill": {
     "duration": 0.978692,
     "end_time": "2025-02-05T18:06:18.212856",
     "exception": false,
     "start_time": "2025-02-05T18:06:17.234164",
     "status": "completed"
    },
    "tags": []
   },
   "outputs": [
    {
     "data": {
      "text/html": [
       "<div>\n",
       "<style scoped>\n",
       "    .dataframe tbody tr th:only-of-type {\n",
       "        vertical-align: middle;\n",
       "    }\n",
       "\n",
       "    .dataframe tbody tr th {\n",
       "        vertical-align: top;\n",
       "    }\n",
       "\n",
       "    .dataframe thead th {\n",
       "        text-align: right;\n",
       "    }\n",
       "</style>\n",
       "<table border=\"1\" class=\"dataframe\">\n",
       "  <thead>\n",
       "    <tr style=\"text-align: right;\">\n",
       "      <th></th>\n",
       "      <th>order_id</th>\n",
       "      <th>product_code</th>\n",
       "      <th>product_name</th>\n",
       "      <th>quantity</th>\n",
       "      <th>order_date</th>\n",
       "      <th>price</th>\n",
       "      <th>customer_id</th>\n",
       "    </tr>\n",
       "  </thead>\n",
       "  <tbody>\n",
       "    <tr>\n",
       "      <th>0</th>\n",
       "      <td>493410</td>\n",
       "      <td>TEST001</td>\n",
       "      <td>This is a test product.</td>\n",
       "      <td>5</td>\n",
       "      <td>2010-01-04 09:24:00</td>\n",
       "      <td>4.50</td>\n",
       "      <td>12346.0</td>\n",
       "    </tr>\n",
       "    <tr>\n",
       "      <th>1</th>\n",
       "      <td>C493411</td>\n",
       "      <td>21539</td>\n",
       "      <td>RETRO SPOTS BUTTER DISH</td>\n",
       "      <td>-1</td>\n",
       "      <td>2010-01-04 09:43:00</td>\n",
       "      <td>4.25</td>\n",
       "      <td>14590.0</td>\n",
       "    </tr>\n",
       "    <tr>\n",
       "      <th>2</th>\n",
       "      <td>493412</td>\n",
       "      <td>TEST001</td>\n",
       "      <td>This is a test product.</td>\n",
       "      <td>5</td>\n",
       "      <td>2010-01-04 09:53:00</td>\n",
       "      <td>4.50</td>\n",
       "      <td>12346.0</td>\n",
       "    </tr>\n",
       "    <tr>\n",
       "      <th>3</th>\n",
       "      <td>493413</td>\n",
       "      <td>21724</td>\n",
       "      <td>PANDA AND BUNNIES STICKER SHEET</td>\n",
       "      <td>1</td>\n",
       "      <td>2010-01-04 09:54:00</td>\n",
       "      <td>0.85</td>\n",
       "      <td>NaN</td>\n",
       "    </tr>\n",
       "    <tr>\n",
       "      <th>4</th>\n",
       "      <td>493413</td>\n",
       "      <td>84578</td>\n",
       "      <td>ELEPHANT TOY WITH BLUE T-SHIRT</td>\n",
       "      <td>1</td>\n",
       "      <td>2010-01-04 09:54:00</td>\n",
       "      <td>3.75</td>\n",
       "      <td>NaN</td>\n",
       "    </tr>\n",
       "    <tr>\n",
       "      <th>...</th>\n",
       "      <td>...</td>\n",
       "      <td>...</td>\n",
       "      <td>...</td>\n",
       "      <td>...</td>\n",
       "      <td>...</td>\n",
       "      <td>...</td>\n",
       "      <td>...</td>\n",
       "    </tr>\n",
       "    <tr>\n",
       "      <th>461768</th>\n",
       "      <td>539991</td>\n",
       "      <td>21618</td>\n",
       "      <td>4 WILDFLOWER BOTANICAL CANDLES</td>\n",
       "      <td>1</td>\n",
       "      <td>2010-12-23 16:49:00</td>\n",
       "      <td>1.25</td>\n",
       "      <td>NaN</td>\n",
       "    </tr>\n",
       "    <tr>\n",
       "      <th>461769</th>\n",
       "      <td>539991</td>\n",
       "      <td>72741</td>\n",
       "      <td>GRAND CHOCOLATECANDLE</td>\n",
       "      <td>4</td>\n",
       "      <td>2010-12-23 16:49:00</td>\n",
       "      <td>1.45</td>\n",
       "      <td>NaN</td>\n",
       "    </tr>\n",
       "    <tr>\n",
       "      <th>461770</th>\n",
       "      <td>539992</td>\n",
       "      <td>21470</td>\n",
       "      <td>FLOWER VINE RAFFIA FOOD COVER</td>\n",
       "      <td>1</td>\n",
       "      <td>2010-12-23 17:41:00</td>\n",
       "      <td>3.75</td>\n",
       "      <td>NaN</td>\n",
       "    </tr>\n",
       "    <tr>\n",
       "      <th>461771</th>\n",
       "      <td>539992</td>\n",
       "      <td>22258</td>\n",
       "      <td>FELT FARM ANIMAL RABBIT</td>\n",
       "      <td>1</td>\n",
       "      <td>2010-12-23 17:41:00</td>\n",
       "      <td>1.25</td>\n",
       "      <td>NaN</td>\n",
       "    </tr>\n",
       "    <tr>\n",
       "      <th>461772</th>\n",
       "      <td>539992</td>\n",
       "      <td>21155</td>\n",
       "      <td>RED RETROSPOT PEG BAG</td>\n",
       "      <td>1</td>\n",
       "      <td>2010-12-23 17:41:00</td>\n",
       "      <td>2.10</td>\n",
       "      <td>NaN</td>\n",
       "    </tr>\n",
       "  </tbody>\n",
       "</table>\n",
       "<p>461773 rows × 7 columns</p>\n",
       "</div>"
      ],
      "text/plain": [
       "       order_id product_code                     product_name  quantity   \n",
       "0        493410      TEST001          This is a test product.         5  \\\n",
       "1       C493411        21539          RETRO SPOTS BUTTER DISH        -1   \n",
       "2        493412      TEST001          This is a test product.         5   \n",
       "3        493413        21724  PANDA AND BUNNIES STICKER SHEET         1   \n",
       "4        493413        84578   ELEPHANT TOY WITH BLUE T-SHIRT         1   \n",
       "...         ...          ...                              ...       ...   \n",
       "461768   539991        21618   4 WILDFLOWER BOTANICAL CANDLES         1   \n",
       "461769   539991        72741            GRAND CHOCOLATECANDLE         4   \n",
       "461770   539992        21470    FLOWER VINE RAFFIA FOOD COVER         1   \n",
       "461771   539992        22258          FELT FARM ANIMAL RABBIT         1   \n",
       "461772   539992        21155            RED RETROSPOT PEG BAG         1   \n",
       "\n",
       "                 order_date  price  customer_id  \n",
       "0       2010-01-04 09:24:00   4.50      12346.0  \n",
       "1       2010-01-04 09:43:00   4.25      14590.0  \n",
       "2       2010-01-04 09:53:00   4.50      12346.0  \n",
       "3       2010-01-04 09:54:00   0.85          NaN  \n",
       "4       2010-01-04 09:54:00   3.75          NaN  \n",
       "...                     ...    ...          ...  \n",
       "461768  2010-12-23 16:49:00   1.25          NaN  \n",
       "461769  2010-12-23 16:49:00   1.45          NaN  \n",
       "461770  2010-12-23 17:41:00   3.75          NaN  \n",
       "461771  2010-12-23 17:41:00   1.25          NaN  \n",
       "461772  2010-12-23 17:41:00   2.10          NaN  \n",
       "\n",
       "[461773 rows x 7 columns]"
      ]
     },
     "execution_count": 91,
     "metadata": {},
     "output_type": "execute_result"
    }
   ],
   "source": [
    "# Load dataset yang akan digunakan\n",
    "df = pd.read_csv('../data/Online_Retail_Data.csv')\n",
    "df"
   ]
  },
  {
   "cell_type": "code",
   "execution_count": 92,
   "id": "b33f1751",
   "metadata": {
    "execution": {
     "iopub.execute_input": "2025-02-05T18:06:18.250749Z",
     "iopub.status.busy": "2025-02-05T18:06:18.250357Z",
     "iopub.status.idle": "2025-02-05T18:06:18.256882Z",
     "shell.execute_reply": "2025-02-05T18:06:18.255679Z"
    },
    "executionInfo": {
     "elapsed": 13,
     "status": "ok",
     "timestamp": 1738341877527,
     "user": {
      "displayName": "Isma Dian Damara",
      "userId": "03128721927476324285"
     },
     "user_tz": -420
    },
    "id": "qu-hsQtAkTC2",
    "outputId": "928a6e5e-755b-4c2e-8cf3-294b04679ea4",
    "papermill": {
     "duration": 0.028246,
     "end_time": "2025-02-05T18:06:18.258750",
     "exception": false,
     "start_time": "2025-02-05T18:06:18.230504",
     "status": "completed"
    },
    "tags": []
   },
   "outputs": [
    {
     "data": {
      "text/plain": [
       "(461773, 7)"
      ]
     },
     "execution_count": 92,
     "metadata": {},
     "output_type": "execute_result"
    }
   ],
   "source": [
    "# melihat bentuk dataset\n",
    "df.shape"
   ]
  },
  {
   "cell_type": "code",
   "execution_count": 93,
   "id": "4e1b3730",
   "metadata": {
    "execution": {
     "iopub.execute_input": "2025-02-05T18:06:18.294747Z",
     "iopub.status.busy": "2025-02-05T18:06:18.294323Z",
     "iopub.status.idle": "2025-02-05T18:06:18.420063Z",
     "shell.execute_reply": "2025-02-05T18:06:18.418687Z"
    },
    "executionInfo": {
     "elapsed": 11,
     "status": "ok",
     "timestamp": 1738341877527,
     "user": {
      "displayName": "Isma Dian Damara",
      "userId": "03128721927476324285"
     },
     "user_tz": -420
    },
    "id": "emOpAO0oyFqe",
    "outputId": "332f1eca-6828-4ce8-e327-deba020bbb07",
    "papermill": {
     "duration": 0.146035,
     "end_time": "2025-02-05T18:06:18.421865",
     "exception": false,
     "start_time": "2025-02-05T18:06:18.275830",
     "status": "completed"
    },
    "tags": []
   },
   "outputs": [
    {
     "name": "stdout",
     "output_type": "stream",
     "text": [
      "<class 'pandas.core.frame.DataFrame'>\n",
      "RangeIndex: 461773 entries, 0 to 461772\n",
      "Data columns (total 7 columns):\n",
      " #   Column        Non-Null Count   Dtype  \n",
      "---  ------        --------------   -----  \n",
      " 0   order_id      461773 non-null  object \n",
      " 1   product_code  461773 non-null  object \n",
      " 2   product_name  459055 non-null  object \n",
      " 3   quantity      461773 non-null  int64  \n",
      " 4   order_date    461773 non-null  object \n",
      " 5   price         461773 non-null  float64\n",
      " 6   customer_id   360853 non-null  float64\n",
      "dtypes: float64(2), int64(1), object(4)\n",
      "memory usage: 24.7+ MB\n"
     ]
    }
   ],
   "source": [
    "# melihat informasi dataset\n",
    "df.info()"
   ]
  },
  {
   "cell_type": "code",
   "execution_count": 94,
   "id": "fe1e7deb",
   "metadata": {
    "execution": {
     "iopub.execute_input": "2025-02-05T18:06:18.457473Z",
     "iopub.status.busy": "2025-02-05T18:06:18.457095Z",
     "iopub.status.idle": "2025-02-05T18:06:18.524058Z",
     "shell.execute_reply": "2025-02-05T18:06:18.522925Z"
    },
    "executionInfo": {
     "elapsed": 8,
     "status": "ok",
     "timestamp": 1738341877527,
     "user": {
      "displayName": "Isma Dian Damara",
      "userId": "03128721927476324285"
     },
     "user_tz": -420
    },
    "id": "UVyWUPcskVg2",
    "outputId": "f6221959-1ab8-4043-b7f7-559ba504ac62",
    "papermill": {
     "duration": 0.087105,
     "end_time": "2025-02-05T18:06:18.525809",
     "exception": false,
     "start_time": "2025-02-05T18:06:18.438704",
     "status": "completed"
    },
    "tags": []
   },
   "outputs": [
    {
     "data": {
      "text/html": [
       "<div>\n",
       "<style scoped>\n",
       "    .dataframe tbody tr th:only-of-type {\n",
       "        vertical-align: middle;\n",
       "    }\n",
       "\n",
       "    .dataframe tbody tr th {\n",
       "        vertical-align: top;\n",
       "    }\n",
       "\n",
       "    .dataframe thead th {\n",
       "        text-align: right;\n",
       "    }\n",
       "</style>\n",
       "<table border=\"1\" class=\"dataframe\">\n",
       "  <thead>\n",
       "    <tr style=\"text-align: right;\">\n",
       "      <th></th>\n",
       "      <th>quantity</th>\n",
       "      <th>price</th>\n",
       "      <th>customer_id</th>\n",
       "    </tr>\n",
       "  </thead>\n",
       "  <tbody>\n",
       "    <tr>\n",
       "      <th>count</th>\n",
       "      <td>461773.000000</td>\n",
       "      <td>461773.000000</td>\n",
       "      <td>360853.000000</td>\n",
       "    </tr>\n",
       "    <tr>\n",
       "      <th>mean</th>\n",
       "      <td>9.088892</td>\n",
       "      <td>4.569963</td>\n",
       "      <td>15557.611138</td>\n",
       "    </tr>\n",
       "    <tr>\n",
       "      <th>std</th>\n",
       "      <td>86.366467</td>\n",
       "      <td>153.411566</td>\n",
       "      <td>1593.728741</td>\n",
       "    </tr>\n",
       "    <tr>\n",
       "      <th>min</th>\n",
       "      <td>-9600.000000</td>\n",
       "      <td>-53594.360000</td>\n",
       "      <td>12346.000000</td>\n",
       "    </tr>\n",
       "    <tr>\n",
       "      <th>25%</th>\n",
       "      <td>1.000000</td>\n",
       "      <td>1.250000</td>\n",
       "      <td>14210.000000</td>\n",
       "    </tr>\n",
       "    <tr>\n",
       "      <th>50%</th>\n",
       "      <td>3.000000</td>\n",
       "      <td>2.100000</td>\n",
       "      <td>15580.000000</td>\n",
       "    </tr>\n",
       "    <tr>\n",
       "      <th>75%</th>\n",
       "      <td>10.000000</td>\n",
       "      <td>4.210000</td>\n",
       "      <td>16938.000000</td>\n",
       "    </tr>\n",
       "    <tr>\n",
       "      <th>max</th>\n",
       "      <td>10200.000000</td>\n",
       "      <td>25111.090000</td>\n",
       "      <td>18287.000000</td>\n",
       "    </tr>\n",
       "  </tbody>\n",
       "</table>\n",
       "</div>"
      ],
      "text/plain": [
       "            quantity          price    customer_id\n",
       "count  461773.000000  461773.000000  360853.000000\n",
       "mean        9.088892       4.569963   15557.611138\n",
       "std        86.366467     153.411566    1593.728741\n",
       "min     -9600.000000  -53594.360000   12346.000000\n",
       "25%         1.000000       1.250000   14210.000000\n",
       "50%         3.000000       2.100000   15580.000000\n",
       "75%        10.000000       4.210000   16938.000000\n",
       "max     10200.000000   25111.090000   18287.000000"
      ]
     },
     "execution_count": 94,
     "metadata": {},
     "output_type": "execute_result"
    }
   ],
   "source": [
    "# melihat deskripsi statistik dataset\n",
    "df.describe()"
   ]
  },
  {
   "cell_type": "code",
   "execution_count": 95,
   "id": "3713bd25",
   "metadata": {
    "execution": {
     "iopub.execute_input": "2025-02-05T18:06:18.562556Z",
     "iopub.status.busy": "2025-02-05T18:06:18.562151Z",
     "iopub.status.idle": "2025-02-05T18:06:18.663203Z",
     "shell.execute_reply": "2025-02-05T18:06:18.662075Z"
    },
    "executionInfo": {
     "elapsed": 597,
     "status": "ok",
     "timestamp": 1738341878118,
     "user": {
      "displayName": "Isma Dian Damara",
      "userId": "03128721927476324285"
     },
     "user_tz": -420
    },
    "id": "YbJ3wDHVpC-7",
    "outputId": "8bb24f45-3e51-440d-be09-7235fefdd1c3",
    "papermill": {
     "duration": 0.121524,
     "end_time": "2025-02-05T18:06:18.665054",
     "exception": false,
     "start_time": "2025-02-05T18:06:18.543530",
     "status": "completed"
    },
    "tags": []
   },
   "outputs": [
    {
     "data": {
      "text/plain": [
       "order_id             0\n",
       "product_code         0\n",
       "product_name      2718\n",
       "quantity             0\n",
       "order_date           0\n",
       "price                0\n",
       "customer_id     100920\n",
       "dtype: int64"
      ]
     },
     "execution_count": 95,
     "metadata": {},
     "output_type": "execute_result"
    }
   ],
   "source": [
    "# Melihat jumlah nilai null pada dataset\n",
    "df.isnull().sum()"
   ]
  },
  {
   "cell_type": "code",
   "execution_count": 96,
   "id": "bb1120d2",
   "metadata": {
    "execution": {
     "iopub.execute_input": "2025-02-05T18:06:18.701287Z",
     "iopub.status.busy": "2025-02-05T18:06:18.700857Z",
     "iopub.status.idle": "2025-02-05T18:06:18.957463Z",
     "shell.execute_reply": "2025-02-05T18:06:18.956252Z"
    },
    "executionInfo": {
     "elapsed": 533,
     "status": "ok",
     "timestamp": 1738341878645,
     "user": {
      "displayName": "Isma Dian Damara",
      "userId": "03128721927476324285"
     },
     "user_tz": -420
    },
    "id": "rhH-mhT9pJ8A",
    "outputId": "41fc9483-276f-4ec4-ff4f-93347429189a",
    "papermill": {
     "duration": 0.276608,
     "end_time": "2025-02-05T18:06:18.959457",
     "exception": false,
     "start_time": "2025-02-05T18:06:18.682849",
     "status": "completed"
    },
    "tags": []
   },
   "outputs": [
    {
     "data": {
      "text/plain": [
       "6479"
      ]
     },
     "execution_count": 96,
     "metadata": {},
     "output_type": "execute_result"
    }
   ],
   "source": [
    "# melihat jumlah nilai duplikat\n",
    "df.duplicated().sum()"
   ]
  },
  {
   "cell_type": "markdown",
   "id": "a0b43e19",
   "metadata": {
    "id": "tU0-TdKsyjer",
    "papermill": {
     "duration": 0.017793,
     "end_time": "2025-02-05T18:06:18.996127",
     "exception": false,
     "start_time": "2025-02-05T18:06:18.978334",
     "status": "completed"
    },
    "tags": []
   },
   "source": [
    "## **DATA CLEANSING**\n",
    "\n",
    "Data cleansing dilakukan untuk memastikan data dalam kondisi bersih, konsisten, dan bebas dari kesalahan. Proses ini mencakup berbagai langkah untuk meningkatkan kualitas data, sehingga analisis dapat dilakukan secara akurat dan menghasilkan wawasan yang dapat diandalkan."
   ]
  },
  {
   "cell_type": "code",
   "execution_count": 97,
   "id": "a2fd119b",
   "metadata": {
    "execution": {
     "iopub.execute_input": "2025-02-05T18:06:19.033887Z",
     "iopub.status.busy": "2025-02-05T18:06:19.033433Z",
     "iopub.status.idle": "2025-02-05T18:06:19.051031Z",
     "shell.execute_reply": "2025-02-05T18:06:19.049604Z"
    },
    "id": "hWFckYYVyNZH",
    "papermill": {
     "duration": 0.038138,
     "end_time": "2025-02-05T18:06:19.053324",
     "exception": false,
     "start_time": "2025-02-05T18:06:19.015186",
     "status": "completed"
    },
    "tags": []
   },
   "outputs": [],
   "source": [
    "# membuat salinan dataset\n",
    "df_clean = df.copy()"
   ]
  },
  {
   "cell_type": "markdown",
   "id": "f5cddf77",
   "metadata": {
    "id": "xkk-bo6uo3nW",
    "papermill": {
     "duration": 0.022952,
     "end_time": "2025-02-05T18:06:19.094837",
     "exception": false,
     "start_time": "2025-02-05T18:06:19.071885",
     "status": "completed"
    },
    "tags": []
   },
   "source": [
    "#### **Konversi Tanggal dan Penambahan Kolom Baru**\n",
    " Mengubah format kolom **order_date** menjadi tipe data datetime agar bisa diproses lebih lanjut. Kemudian menambahkan kolom baru **year_month** yang berisi periode bulan dan tahun dari tanggal pemesanan."
   ]
  },
  {
   "cell_type": "code",
   "execution_count": 98,
   "id": "032b71ac",
   "metadata": {
    "execution": {
     "iopub.execute_input": "2025-02-05T18:06:19.145757Z",
     "iopub.status.busy": "2025-02-05T18:06:19.145019Z",
     "iopub.status.idle": "2025-02-05T18:06:19.623390Z",
     "shell.execute_reply": "2025-02-05T18:06:19.622110Z"
    },
    "executionInfo": {
     "elapsed": 409,
     "status": "ok",
     "timestamp": 1738341879051,
     "user": {
      "displayName": "Isma Dian Damara",
      "userId": "03128721927476324285"
     },
     "user_tz": -420
    },
    "id": "RtAS5PGHyqVN",
    "outputId": "fedc7b63-4aaf-4dd7-9f49-40a43f6426ba",
    "papermill": {
     "duration": 0.50649,
     "end_time": "2025-02-05T18:06:19.625377",
     "exception": false,
     "start_time": "2025-02-05T18:06:19.118887",
     "status": "completed"
    },
    "tags": []
   },
   "outputs": [
    {
     "data": {
      "text/html": [
       "<div>\n",
       "<style scoped>\n",
       "    .dataframe tbody tr th:only-of-type {\n",
       "        vertical-align: middle;\n",
       "    }\n",
       "\n",
       "    .dataframe tbody tr th {\n",
       "        vertical-align: top;\n",
       "    }\n",
       "\n",
       "    .dataframe thead th {\n",
       "        text-align: right;\n",
       "    }\n",
       "</style>\n",
       "<table border=\"1\" class=\"dataframe\">\n",
       "  <thead>\n",
       "    <tr style=\"text-align: right;\">\n",
       "      <th></th>\n",
       "      <th>order_id</th>\n",
       "      <th>product_code</th>\n",
       "      <th>product_name</th>\n",
       "      <th>quantity</th>\n",
       "      <th>order_date</th>\n",
       "      <th>price</th>\n",
       "      <th>customer_id</th>\n",
       "      <th>date</th>\n",
       "      <th>year_month</th>\n",
       "    </tr>\n",
       "  </thead>\n",
       "  <tbody>\n",
       "    <tr>\n",
       "      <th>0</th>\n",
       "      <td>493410</td>\n",
       "      <td>TEST001</td>\n",
       "      <td>This is a test product.</td>\n",
       "      <td>5</td>\n",
       "      <td>2010-01-04 09:24:00</td>\n",
       "      <td>4.50</td>\n",
       "      <td>12346.0</td>\n",
       "      <td>2010-01-04</td>\n",
       "      <td>2010-01</td>\n",
       "    </tr>\n",
       "    <tr>\n",
       "      <th>1</th>\n",
       "      <td>C493411</td>\n",
       "      <td>21539</td>\n",
       "      <td>RETRO SPOTS BUTTER DISH</td>\n",
       "      <td>-1</td>\n",
       "      <td>2010-01-04 09:43:00</td>\n",
       "      <td>4.25</td>\n",
       "      <td>14590.0</td>\n",
       "      <td>2010-01-04</td>\n",
       "      <td>2010-01</td>\n",
       "    </tr>\n",
       "    <tr>\n",
       "      <th>2</th>\n",
       "      <td>493412</td>\n",
       "      <td>TEST001</td>\n",
       "      <td>This is a test product.</td>\n",
       "      <td>5</td>\n",
       "      <td>2010-01-04 09:53:00</td>\n",
       "      <td>4.50</td>\n",
       "      <td>12346.0</td>\n",
       "      <td>2010-01-04</td>\n",
       "      <td>2010-01</td>\n",
       "    </tr>\n",
       "    <tr>\n",
       "      <th>3</th>\n",
       "      <td>493413</td>\n",
       "      <td>21724</td>\n",
       "      <td>PANDA AND BUNNIES STICKER SHEET</td>\n",
       "      <td>1</td>\n",
       "      <td>2010-01-04 09:54:00</td>\n",
       "      <td>0.85</td>\n",
       "      <td>NaN</td>\n",
       "      <td>2010-01-04</td>\n",
       "      <td>2010-01</td>\n",
       "    </tr>\n",
       "    <tr>\n",
       "      <th>4</th>\n",
       "      <td>493413</td>\n",
       "      <td>84578</td>\n",
       "      <td>ELEPHANT TOY WITH BLUE T-SHIRT</td>\n",
       "      <td>1</td>\n",
       "      <td>2010-01-04 09:54:00</td>\n",
       "      <td>3.75</td>\n",
       "      <td>NaN</td>\n",
       "      <td>2010-01-04</td>\n",
       "      <td>2010-01</td>\n",
       "    </tr>\n",
       "  </tbody>\n",
       "</table>\n",
       "</div>"
      ],
      "text/plain": [
       "  order_id product_code                     product_name  quantity   \n",
       "0   493410      TEST001          This is a test product.         5  \\\n",
       "1  C493411        21539          RETRO SPOTS BUTTER DISH        -1   \n",
       "2   493412      TEST001          This is a test product.         5   \n",
       "3   493413        21724  PANDA AND BUNNIES STICKER SHEET         1   \n",
       "4   493413        84578   ELEPHANT TOY WITH BLUE T-SHIRT         1   \n",
       "\n",
       "           order_date  price  customer_id       date year_month  \n",
       "0 2010-01-04 09:24:00   4.50      12346.0 2010-01-04    2010-01  \n",
       "1 2010-01-04 09:43:00   4.25      14590.0 2010-01-04    2010-01  \n",
       "2 2010-01-04 09:53:00   4.50      12346.0 2010-01-04    2010-01  \n",
       "3 2010-01-04 09:54:00   0.85          NaN 2010-01-04    2010-01  \n",
       "4 2010-01-04 09:54:00   3.75          NaN 2010-01-04    2010-01  "
      ]
     },
     "execution_count": 98,
     "metadata": {},
     "output_type": "execute_result"
    }
   ],
   "source": [
    "# Mengkonversi kolom order_date menjadi datetime\n",
    "df_clean['order_date'] = df_clean['order_date'].astype('datetime64[ns]')\n",
    "# membuat kolom date\n",
    "df_clean['date'] = pd.to_datetime(df_clean['order_date']).dt.date.astype('datetime64[ns]')\n",
    "# membuat kolom year_month\n",
    "df_clean['year_month'] = df_clean['order_date'].dt.to_period('M')\n",
    "\n",
    "df_clean.head()"
   ]
  },
  {
   "cell_type": "markdown",
   "id": "4301df0b",
   "metadata": {
    "id": "2EDSamNspmGj",
    "papermill": {
     "duration": 0.01766,
     "end_time": "2025-02-05T18:06:19.661342",
     "exception": false,
     "start_time": "2025-02-05T18:06:19.643682",
     "status": "completed"
    },
    "tags": []
   },
   "source": [
    "#### **Pembersihan Data yang Hilang**\n",
    "\n",
    "Menghapus baris-baris yang tidak memiliki nilai pada kolom **customer_id** dan product_name karena data tersebut tidak valid untuk analisis lebih lanjut."
   ]
  },
  {
   "cell_type": "code",
   "execution_count": 99,
   "id": "0c3571b4",
   "metadata": {
    "execution": {
     "iopub.execute_input": "2025-02-05T18:06:19.697514Z",
     "iopub.status.busy": "2025-02-05T18:06:19.697170Z",
     "iopub.status.idle": "2025-02-05T18:06:19.898211Z",
     "shell.execute_reply": "2025-02-05T18:06:19.897036Z"
    },
    "executionInfo": {
     "elapsed": 7,
     "status": "ok",
     "timestamp": 1738341879051,
     "user": {
      "displayName": "Isma Dian Damara",
      "userId": "03128721927476324285"
     },
     "user_tz": -420
    },
    "id": "-pMLqHFEpqfy",
    "outputId": "4e88e3bb-1203-4926-ef29-17fd0fedd1bf",
    "papermill": {
     "duration": 0.221575,
     "end_time": "2025-02-05T18:06:19.900239",
     "exception": false,
     "start_time": "2025-02-05T18:06:19.678664",
     "status": "completed"
    },
    "tags": []
   },
   "outputs": [
    {
     "data": {
      "text/plain": [
       "order_id        0\n",
       "product_code    0\n",
       "product_name    0\n",
       "quantity        0\n",
       "order_date      0\n",
       "price           0\n",
       "customer_id     0\n",
       "date            0\n",
       "year_month      0\n",
       "dtype: int64"
      ]
     },
     "execution_count": 99,
     "metadata": {},
     "output_type": "execute_result"
    }
   ],
   "source": [
    "# menghapus baris yang memiliki nilai null\n",
    "df_clean = df_clean.dropna()\n",
    "\n",
    "# mengecek apakah masih ada nilai null atau tidak\n",
    "df_clean.isnull().sum()"
   ]
  },
  {
   "cell_type": "markdown",
   "id": "3d6b069d",
   "metadata": {
    "id": "GgKCEnxSq6w1",
    "papermill": {
     "duration": 0.076406,
     "end_time": "2025-02-05T18:06:19.995301",
     "exception": false,
     "start_time": "2025-02-05T18:06:19.918895",
     "status": "completed"
    },
    "tags": []
   },
   "source": [
    "#### **Menghapus Data Test**\n",
    "\n",
    "Mengubah semua nilai pada kolom **product_name** menjadi huruf kecil untuk konsistensi data Kemudian menghapus semua baris yang mengandung informasi mengenai produk pengujian dengan kata \"test\" pada kolom **product_code** dan **product_name**."
   ]
  },
  {
   "cell_type": "code",
   "execution_count": 100,
   "id": "43f7617c",
   "metadata": {
    "execution": {
     "iopub.execute_input": "2025-02-05T18:06:20.035168Z",
     "iopub.status.busy": "2025-02-05T18:06:20.034751Z",
     "iopub.status.idle": "2025-02-05T18:06:20.475028Z",
     "shell.execute_reply": "2025-02-05T18:06:20.473444Z"
    },
    "executionInfo": {
     "elapsed": 337,
     "status": "ok",
     "timestamp": 1738341879382,
     "user": {
      "displayName": "Isma Dian Damara",
      "userId": "03128721927476324285"
     },
     "user_tz": -420
    },
    "id": "KYUV_wMesIlk",
    "outputId": "535b996a-94af-4b7e-82a9-0ad3ee161967",
    "papermill": {
     "duration": 0.462585,
     "end_time": "2025-02-05T18:06:20.477110",
     "exception": false,
     "start_time": "2025-02-05T18:06:20.014525",
     "status": "completed"
    },
    "tags": []
   },
   "outputs": [
    {
     "data": {
      "text/html": [
       "<div>\n",
       "<style scoped>\n",
       "    .dataframe tbody tr th:only-of-type {\n",
       "        vertical-align: middle;\n",
       "    }\n",
       "\n",
       "    .dataframe tbody tr th {\n",
       "        vertical-align: top;\n",
       "    }\n",
       "\n",
       "    .dataframe thead th {\n",
       "        text-align: right;\n",
       "    }\n",
       "</style>\n",
       "<table border=\"1\" class=\"dataframe\">\n",
       "  <thead>\n",
       "    <tr style=\"text-align: right;\">\n",
       "      <th></th>\n",
       "      <th>order_id</th>\n",
       "      <th>product_code</th>\n",
       "      <th>product_name</th>\n",
       "      <th>quantity</th>\n",
       "      <th>order_date</th>\n",
       "      <th>price</th>\n",
       "      <th>customer_id</th>\n",
       "      <th>date</th>\n",
       "      <th>year_month</th>\n",
       "    </tr>\n",
       "  </thead>\n",
       "  <tbody>\n",
       "    <tr>\n",
       "      <th>1</th>\n",
       "      <td>C493411</td>\n",
       "      <td>21539</td>\n",
       "      <td>retro spots butter dish</td>\n",
       "      <td>-1</td>\n",
       "      <td>2010-01-04 09:43:00</td>\n",
       "      <td>4.25</td>\n",
       "      <td>14590.0</td>\n",
       "      <td>2010-01-04</td>\n",
       "      <td>2010-01</td>\n",
       "    </tr>\n",
       "    <tr>\n",
       "      <th>6</th>\n",
       "      <td>493414</td>\n",
       "      <td>21844</td>\n",
       "      <td>retro spot mug</td>\n",
       "      <td>36</td>\n",
       "      <td>2010-01-04 10:28:00</td>\n",
       "      <td>2.55</td>\n",
       "      <td>14590.0</td>\n",
       "      <td>2010-01-04</td>\n",
       "      <td>2010-01</td>\n",
       "    </tr>\n",
       "    <tr>\n",
       "      <th>7</th>\n",
       "      <td>493414</td>\n",
       "      <td>21533</td>\n",
       "      <td>retro spot large milk jug</td>\n",
       "      <td>12</td>\n",
       "      <td>2010-01-04 10:28:00</td>\n",
       "      <td>4.25</td>\n",
       "      <td>14590.0</td>\n",
       "      <td>2010-01-04</td>\n",
       "      <td>2010-01</td>\n",
       "    </tr>\n",
       "    <tr>\n",
       "      <th>8</th>\n",
       "      <td>493414</td>\n",
       "      <td>37508</td>\n",
       "      <td>new england ceramic cake server</td>\n",
       "      <td>2</td>\n",
       "      <td>2010-01-04 10:28:00</td>\n",
       "      <td>2.55</td>\n",
       "      <td>14590.0</td>\n",
       "      <td>2010-01-04</td>\n",
       "      <td>2010-01</td>\n",
       "    </tr>\n",
       "    <tr>\n",
       "      <th>9</th>\n",
       "      <td>493414</td>\n",
       "      <td>35001G</td>\n",
       "      <td>hand open shape gold</td>\n",
       "      <td>2</td>\n",
       "      <td>2010-01-04 10:28:00</td>\n",
       "      <td>4.25</td>\n",
       "      <td>14590.0</td>\n",
       "      <td>2010-01-04</td>\n",
       "      <td>2010-01</td>\n",
       "    </tr>\n",
       "  </tbody>\n",
       "</table>\n",
       "</div>"
      ],
      "text/plain": [
       "  order_id product_code                     product_name  quantity   \n",
       "1  C493411        21539          retro spots butter dish        -1  \\\n",
       "6   493414        21844                   retro spot mug        36   \n",
       "7   493414        21533        retro spot large milk jug        12   \n",
       "8   493414        37508  new england ceramic cake server         2   \n",
       "9   493414       35001G             hand open shape gold         2   \n",
       "\n",
       "           order_date  price  customer_id       date year_month  \n",
       "1 2010-01-04 09:43:00   4.25      14590.0 2010-01-04    2010-01  \n",
       "6 2010-01-04 10:28:00   2.55      14590.0 2010-01-04    2010-01  \n",
       "7 2010-01-04 10:28:00   4.25      14590.0 2010-01-04    2010-01  \n",
       "8 2010-01-04 10:28:00   2.55      14590.0 2010-01-04    2010-01  \n",
       "9 2010-01-04 10:28:00   4.25      14590.0 2010-01-04    2010-01  "
      ]
     },
     "execution_count": 100,
     "metadata": {},
     "output_type": "execute_result"
    }
   ],
   "source": [
    "# membuat semua product_name berhuruf kecil\n",
    "df_clean['product_name'] = df_clean['product_name'].str.lower()\n",
    "# menghapus semua baris dengan product_code atau product_name test\n",
    "df_clean = df_clean[(~df_clean['product_code'].str.lower().str.contains('test')) |\n",
    "                    (~df_clean['product_name'].str.contains('test'))]\n",
    "\n",
    "df_clean.head()"
   ]
  },
  {
   "cell_type": "markdown",
   "id": "68f69c24",
   "metadata": {
    "id": "WH9mnx9GuhLt",
    "papermill": {
     "duration": 0.017253,
     "end_time": "2025-02-05T18:06:20.512397",
     "exception": false,
     "start_time": "2025-02-05T18:06:20.495144",
     "status": "completed"
    },
    "tags": []
   },
   "source": [
    "#### **Menambahkan Status Order**\n",
    "Membuat kolom **order_status** yang mengidentifikasi apakah pesanan dibatalkan atau dikirim berdasarkan awalan pada order_id. Jika order_id dimulai dengan 'C', statusnya adalah 'cancelled', jika tidak maka 'delivered'."
   ]
  },
  {
   "cell_type": "code",
   "execution_count": 101,
   "id": "a3db4cb0",
   "metadata": {
    "execution": {
     "iopub.execute_input": "2025-02-05T18:06:20.550112Z",
     "iopub.status.busy": "2025-02-05T18:06:20.549694Z",
     "iopub.status.idle": "2025-02-05T18:06:20.690357Z",
     "shell.execute_reply": "2025-02-05T18:06:20.689188Z"
    },
    "id": "dL5k8WMou0pc",
    "papermill": {
     "duration": 0.162426,
     "end_time": "2025-02-05T18:06:20.692355",
     "exception": false,
     "start_time": "2025-02-05T18:06:20.529929",
     "status": "completed"
    },
    "tags": []
   },
   "outputs": [],
   "source": [
    "# membuat kolom order_status dengan nilai 'cancelled' jika order_id diawali dengan huruf 'c' dan 'delivered' jika order_id tanpa awalan huruf 'c'\n",
    "df_clean['order_status'] = np.where(df_clean['order_id'].str[:1]=='C', 'cancelled', 'delivered')"
   ]
  },
  {
   "cell_type": "markdown",
   "id": "768ea3d1",
   "metadata": {
    "id": "GH1g6u80u37y",
    "papermill": {
     "duration": 0.018563,
     "end_time": "2025-02-05T18:06:20.729753",
     "exception": false,
     "start_time": "2025-02-05T18:06:20.711190",
     "status": "completed"
    },
    "tags": []
   },
   "source": [
    "#### **Pembersihan Data Quantity dan Data Harga**\n",
    "\n",
    "Mengubah nilai negatif pada kolom **quantity** menjadi positif, karena nilai negatif biasanya menunjukkan pesanan yang dibatalkan, namun yang diinginkan adalah jumlah produk yang sebenarnya dipesan. Kemudian\n",
    "menghapus baris dengan nilai harga (price) yang negatif karena harga tidak boleh bernilai negatif dalam konteks transaksi."
   ]
  },
  {
   "cell_type": "code",
   "execution_count": 102,
   "id": "ad89b63a",
   "metadata": {
    "execution": {
     "iopub.execute_input": "2025-02-05T18:06:20.767209Z",
     "iopub.status.busy": "2025-02-05T18:06:20.766796Z",
     "iopub.status.idle": "2025-02-05T18:06:20.803221Z",
     "shell.execute_reply": "2025-02-05T18:06:20.801921Z"
    },
    "id": "9DNFgvWCvN2Y",
    "papermill": {
     "duration": 0.057561,
     "end_time": "2025-02-05T18:06:20.805352",
     "exception": false,
     "start_time": "2025-02-05T18:06:20.747791",
     "status": "completed"
    },
    "tags": []
   },
   "outputs": [],
   "source": [
    "# mengubah nilai quantity yang negatif menjadi positif\n",
    "df_clean['quantity'] = df_clean['quantity'].abs()\n",
    "# menghapus baris dengan price bernilai negatif\n",
    "df_clean = df_clean[df_clean['price']>0]"
   ]
  },
  {
   "cell_type": "markdown",
   "id": "62fb1a2e",
   "metadata": {
    "id": "laZEgSfpvSGf",
    "papermill": {
     "duration": 0.018161,
     "end_time": "2025-02-05T18:06:20.842196",
     "exception": false,
     "start_time": "2025-02-05T18:06:20.824035",
     "status": "completed"
    },
    "tags": []
   },
   "source": [
    "#### **Membuat kolom Amount**\n",
    "Membuat kolom baru **amount** yang dihitung dari perkalian antara **quantity** dan **price** untuk memperoleh total nilai transaksi per produk."
   ]
  },
  {
   "cell_type": "code",
   "execution_count": 103,
   "id": "34c27bda",
   "metadata": {
    "execution": {
     "iopub.execute_input": "2025-02-05T18:06:20.879765Z",
     "iopub.status.busy": "2025-02-05T18:06:20.879393Z",
     "iopub.status.idle": "2025-02-05T18:06:20.895168Z",
     "shell.execute_reply": "2025-02-05T18:06:20.893987Z"
    },
    "executionInfo": {
     "elapsed": 6,
     "status": "ok",
     "timestamp": 1738341879773,
     "user": {
      "displayName": "Isma Dian Damara",
      "userId": "03128721927476324285"
     },
     "user_tz": -420
    },
    "id": "L4Fjn7DWvaaC",
    "outputId": "2251ad50-5841-4f8c-838e-5716bc863fd5",
    "papermill": {
     "duration": 0.037344,
     "end_time": "2025-02-05T18:06:20.897258",
     "exception": false,
     "start_time": "2025-02-05T18:06:20.859914",
     "status": "completed"
    },
    "tags": []
   },
   "outputs": [],
   "source": [
    "# membuat nilai amount, yaitu perkalian antara quantity dan price\n",
    "df_clean['amount'] = df_clean['quantity'] * df_clean['price']"
   ]
  },
  {
   "cell_type": "markdown",
   "id": "c17a985d",
   "metadata": {
    "id": "iErdEC2Xvbco",
    "papermill": {
     "duration": 0.018057,
     "end_time": "2025-02-05T18:06:20.933537",
     "exception": false,
     "start_time": "2025-02-05T18:06:20.915480",
     "status": "completed"
    },
    "tags": []
   },
   "source": [
    "#### **Mengganti Nama Produk yang Tidak Konsisten**\n",
    "Mengganti nama produk untuk setiap **product_code** yang memiliki beberapa nama produk dengan nama yang paling sering muncul, untuk menjaga konsistensi data."
   ]
  },
  {
   "cell_type": "code",
   "execution_count": 104,
   "id": "d5a471bc",
   "metadata": {
    "execution": {
     "iopub.execute_input": "2025-02-05T18:06:20.970457Z",
     "iopub.status.busy": "2025-02-05T18:06:20.970121Z",
     "iopub.status.idle": "2025-02-05T18:06:21.342865Z",
     "shell.execute_reply": "2025-02-05T18:06:21.341853Z"
    },
    "id": "ySE27ozhvlTa",
    "papermill": {
     "duration": 0.393705,
     "end_time": "2025-02-05T18:06:21.344898",
     "exception": false,
     "start_time": "2025-02-05T18:06:20.951193",
     "status": "completed"
    },
    "tags": []
   },
   "outputs": [],
   "source": [
    "# mengganti product_name dari product_code yang memiliki beberapa product_name\n",
    "most_freq_product_name = df_clean.groupby(['product_code','product_name'], as_index=False).agg(order_cnt=('order_id','nunique')).sort_values(['product_code','order_cnt'], ascending=[True,False])\n",
    "most_freq_product_name['rank'] = most_freq_product_name.groupby('product_code')['order_cnt'].rank(method='first', ascending=False)\n",
    "most_freq_product_name = most_freq_product_name[most_freq_product_name['rank']==1].drop(columns=['order_cnt','rank'])\n",
    "df_clean = df_clean.merge(most_freq_product_name.rename(columns={'product_name':'most_freq_product_name'}), how='left', on='product_code')\n",
    "df_clean['product_name'] = df_clean['most_freq_product_name']\n",
    "df_clean = df_clean.drop(columns='most_freq_product_name')"
   ]
  },
  {
   "cell_type": "markdown",
   "id": "71641be8",
   "metadata": {
    "id": "DeHwd91tvv0Q",
    "papermill": {
     "duration": 0.017217,
     "end_time": "2025-02-05T18:06:21.380056",
     "exception": false,
     "start_time": "2025-02-05T18:06:21.362839",
     "status": "completed"
    },
    "tags": []
   },
   "source": [
    "#### **Mengkonversi Customer ID**\n",
    "Mengubah kolom **customer_id** menjadi tipe data string untuk memastikan konsistensi data pada seluruh dataset. dan juga menghapus nilai dibelakang koma."
   ]
  },
  {
   "cell_type": "code",
   "execution_count": 105,
   "id": "d23b8468",
   "metadata": {
    "execution": {
     "iopub.execute_input": "2025-02-05T18:06:21.416809Z",
     "iopub.status.busy": "2025-02-05T18:06:21.416461Z",
     "iopub.status.idle": "2025-02-05T18:06:22.312810Z",
     "shell.execute_reply": "2025-02-05T18:06:22.311616Z"
    },
    "id": "wFKSApB1v4d6",
    "papermill": {
     "duration": 0.916964,
     "end_time": "2025-02-05T18:06:22.314782",
     "exception": false,
     "start_time": "2025-02-05T18:06:21.397818",
     "status": "completed"
    },
    "tags": []
   },
   "outputs": [],
   "source": [
    "# Mengkonversi customer_id menjadi string\n",
    "df_clean['customer_id'] = df_clean['customer_id'].astype(str)\n",
    "\n",
    "# Menghapus nilai di belakang koma (jika ada)\n",
    "df_clean['customer_id'] = df_clean['customer_id'].str.split('.').str[0]"
   ]
  },
  {
   "cell_type": "markdown",
   "id": "5088990e",
   "metadata": {
    "id": "ao8XCB_3v7JG",
    "papermill": {
     "duration": 0.017382,
     "end_time": "2025-02-05T18:06:22.349888",
     "exception": false,
     "start_time": "2025-02-05T18:06:22.332506",
     "status": "completed"
    },
    "tags": []
   },
   "source": [
    "#### **Menghapus Nilai Outlier**\n",
    "\n",
    "Menghapus baris yang mengandung nilai outlier pada kolom **quantity** dan **amount** menggunakan metode Z-Score. Outlier yang melebihi batas Z-Score 3 dianggap sebagai data yang tidak wajar."
   ]
  },
  {
   "cell_type": "code",
   "execution_count": 106,
   "id": "706c234a",
   "metadata": {
    "execution": {
     "iopub.execute_input": "2025-02-05T18:06:22.386125Z",
     "iopub.status.busy": "2025-02-05T18:06:22.385730Z",
     "iopub.status.idle": "2025-02-05T18:06:23.785101Z",
     "shell.execute_reply": "2025-02-05T18:06:23.783884Z"
    },
    "executionInfo": {
     "elapsed": 543,
     "status": "ok",
     "timestamp": 1738341881897,
     "user": {
      "displayName": "Isma Dian Damara",
      "userId": "03128721927476324285"
     },
     "user_tz": -420
    },
    "id": "Fskvcq1Ighho",
    "outputId": "4a533e51-f180-495c-c11a-2896cde41862",
    "papermill": {
     "duration": 1.419587,
     "end_time": "2025-02-05T18:06:23.786919",
     "exception": false,
     "start_time": "2025-02-05T18:06:22.367332",
     "status": "completed"
    },
    "tags": []
   },
   "outputs": [
    {
     "data": {
      "text/html": [
       "<div>\n",
       "<style scoped>\n",
       "    .dataframe tbody tr th:only-of-type {\n",
       "        vertical-align: middle;\n",
       "    }\n",
       "\n",
       "    .dataframe tbody tr th {\n",
       "        vertical-align: top;\n",
       "    }\n",
       "\n",
       "    .dataframe thead th {\n",
       "        text-align: right;\n",
       "    }\n",
       "</style>\n",
       "<table border=\"1\" class=\"dataframe\">\n",
       "  <thead>\n",
       "    <tr style=\"text-align: right;\">\n",
       "      <th></th>\n",
       "      <th>order_id</th>\n",
       "      <th>product_code</th>\n",
       "      <th>product_name</th>\n",
       "      <th>quantity</th>\n",
       "      <th>order_date</th>\n",
       "      <th>price</th>\n",
       "      <th>customer_id</th>\n",
       "      <th>date</th>\n",
       "      <th>year_month</th>\n",
       "      <th>order_status</th>\n",
       "      <th>amount</th>\n",
       "    </tr>\n",
       "  </thead>\n",
       "  <tbody>\n",
       "    <tr>\n",
       "      <th>0</th>\n",
       "      <td>C493411</td>\n",
       "      <td>21539</td>\n",
       "      <td>red retrospot butter dish</td>\n",
       "      <td>1</td>\n",
       "      <td>2010-01-04 09:43:00</td>\n",
       "      <td>4.25</td>\n",
       "      <td>14590</td>\n",
       "      <td>2010-01-04</td>\n",
       "      <td>2010-01</td>\n",
       "      <td>cancelled</td>\n",
       "      <td>4.25</td>\n",
       "    </tr>\n",
       "    <tr>\n",
       "      <th>1</th>\n",
       "      <td>493414</td>\n",
       "      <td>21844</td>\n",
       "      <td>red retrospot mug</td>\n",
       "      <td>36</td>\n",
       "      <td>2010-01-04 10:28:00</td>\n",
       "      <td>2.55</td>\n",
       "      <td>14590</td>\n",
       "      <td>2010-01-04</td>\n",
       "      <td>2010-01</td>\n",
       "      <td>delivered</td>\n",
       "      <td>91.80</td>\n",
       "    </tr>\n",
       "    <tr>\n",
       "      <th>2</th>\n",
       "      <td>493414</td>\n",
       "      <td>21533</td>\n",
       "      <td>retro spot large milk jug</td>\n",
       "      <td>12</td>\n",
       "      <td>2010-01-04 10:28:00</td>\n",
       "      <td>4.25</td>\n",
       "      <td>14590</td>\n",
       "      <td>2010-01-04</td>\n",
       "      <td>2010-01</td>\n",
       "      <td>delivered</td>\n",
       "      <td>51.00</td>\n",
       "    </tr>\n",
       "    <tr>\n",
       "      <th>3</th>\n",
       "      <td>493414</td>\n",
       "      <td>37508</td>\n",
       "      <td>new england ceramic cake server</td>\n",
       "      <td>2</td>\n",
       "      <td>2010-01-04 10:28:00</td>\n",
       "      <td>2.55</td>\n",
       "      <td>14590</td>\n",
       "      <td>2010-01-04</td>\n",
       "      <td>2010-01</td>\n",
       "      <td>delivered</td>\n",
       "      <td>5.10</td>\n",
       "    </tr>\n",
       "    <tr>\n",
       "      <th>4</th>\n",
       "      <td>493414</td>\n",
       "      <td>35001G</td>\n",
       "      <td>hand open shape gold</td>\n",
       "      <td>2</td>\n",
       "      <td>2010-01-04 10:28:00</td>\n",
       "      <td>4.25</td>\n",
       "      <td>14590</td>\n",
       "      <td>2010-01-04</td>\n",
       "      <td>2010-01</td>\n",
       "      <td>delivered</td>\n",
       "      <td>8.50</td>\n",
       "    </tr>\n",
       "    <tr>\n",
       "      <th>...</th>\n",
       "      <td>...</td>\n",
       "      <td>...</td>\n",
       "      <td>...</td>\n",
       "      <td>...</td>\n",
       "      <td>...</td>\n",
       "      <td>...</td>\n",
       "      <td>...</td>\n",
       "      <td>...</td>\n",
       "      <td>...</td>\n",
       "      <td>...</td>\n",
       "      <td>...</td>\n",
       "    </tr>\n",
       "    <tr>\n",
       "      <th>358464</th>\n",
       "      <td>539988</td>\n",
       "      <td>84380</td>\n",
       "      <td>set of 3 butterfly cookie cutters</td>\n",
       "      <td>1</td>\n",
       "      <td>2010-12-23 16:06:00</td>\n",
       "      <td>1.25</td>\n",
       "      <td>18116</td>\n",
       "      <td>2010-12-23</td>\n",
       "      <td>2010-12</td>\n",
       "      <td>delivered</td>\n",
       "      <td>1.25</td>\n",
       "    </tr>\n",
       "    <tr>\n",
       "      <th>358465</th>\n",
       "      <td>539988</td>\n",
       "      <td>84849D</td>\n",
       "      <td>hot baths soap holder</td>\n",
       "      <td>1</td>\n",
       "      <td>2010-12-23 16:06:00</td>\n",
       "      <td>1.69</td>\n",
       "      <td>18116</td>\n",
       "      <td>2010-12-23</td>\n",
       "      <td>2010-12</td>\n",
       "      <td>delivered</td>\n",
       "      <td>1.69</td>\n",
       "    </tr>\n",
       "    <tr>\n",
       "      <th>358466</th>\n",
       "      <td>539988</td>\n",
       "      <td>84849B</td>\n",
       "      <td>fairy soap soap holder</td>\n",
       "      <td>1</td>\n",
       "      <td>2010-12-23 16:06:00</td>\n",
       "      <td>1.69</td>\n",
       "      <td>18116</td>\n",
       "      <td>2010-12-23</td>\n",
       "      <td>2010-12</td>\n",
       "      <td>delivered</td>\n",
       "      <td>1.69</td>\n",
       "    </tr>\n",
       "    <tr>\n",
       "      <th>358467</th>\n",
       "      <td>539988</td>\n",
       "      <td>22854</td>\n",
       "      <td>cream sweetheart egg holder</td>\n",
       "      <td>2</td>\n",
       "      <td>2010-12-23 16:06:00</td>\n",
       "      <td>4.95</td>\n",
       "      <td>18116</td>\n",
       "      <td>2010-12-23</td>\n",
       "      <td>2010-12</td>\n",
       "      <td>delivered</td>\n",
       "      <td>9.90</td>\n",
       "    </tr>\n",
       "    <tr>\n",
       "      <th>358468</th>\n",
       "      <td>539988</td>\n",
       "      <td>47559B</td>\n",
       "      <td>tea time oven glove</td>\n",
       "      <td>2</td>\n",
       "      <td>2010-12-23 16:06:00</td>\n",
       "      <td>1.25</td>\n",
       "      <td>18116</td>\n",
       "      <td>2010-12-23</td>\n",
       "      <td>2010-12</td>\n",
       "      <td>delivered</td>\n",
       "      <td>2.50</td>\n",
       "    </tr>\n",
       "  </tbody>\n",
       "</table>\n",
       "<p>358469 rows × 11 columns</p>\n",
       "</div>"
      ],
      "text/plain": [
       "       order_id product_code                       product_name  quantity   \n",
       "0       C493411        21539          red retrospot butter dish         1  \\\n",
       "1        493414        21844                  red retrospot mug        36   \n",
       "2        493414        21533          retro spot large milk jug        12   \n",
       "3        493414        37508    new england ceramic cake server         2   \n",
       "4        493414       35001G               hand open shape gold         2   \n",
       "...         ...          ...                                ...       ...   \n",
       "358464   539988        84380  set of 3 butterfly cookie cutters         1   \n",
       "358465   539988       84849D              hot baths soap holder         1   \n",
       "358466   539988       84849B             fairy soap soap holder         1   \n",
       "358467   539988        22854        cream sweetheart egg holder         2   \n",
       "358468   539988       47559B                tea time oven glove         2   \n",
       "\n",
       "                order_date  price customer_id       date year_month   \n",
       "0      2010-01-04 09:43:00   4.25       14590 2010-01-04    2010-01  \\\n",
       "1      2010-01-04 10:28:00   2.55       14590 2010-01-04    2010-01   \n",
       "2      2010-01-04 10:28:00   4.25       14590 2010-01-04    2010-01   \n",
       "3      2010-01-04 10:28:00   2.55       14590 2010-01-04    2010-01   \n",
       "4      2010-01-04 10:28:00   4.25       14590 2010-01-04    2010-01   \n",
       "...                    ...    ...         ...        ...        ...   \n",
       "358464 2010-12-23 16:06:00   1.25       18116 2010-12-23    2010-12   \n",
       "358465 2010-12-23 16:06:00   1.69       18116 2010-12-23    2010-12   \n",
       "358466 2010-12-23 16:06:00   1.69       18116 2010-12-23    2010-12   \n",
       "358467 2010-12-23 16:06:00   4.95       18116 2010-12-23    2010-12   \n",
       "358468 2010-12-23 16:06:00   1.25       18116 2010-12-23    2010-12   \n",
       "\n",
       "       order_status  amount  \n",
       "0         cancelled    4.25  \n",
       "1         delivered   91.80  \n",
       "2         delivered   51.00  \n",
       "3         delivered    5.10  \n",
       "4         delivered    8.50  \n",
       "...             ...     ...  \n",
       "358464    delivered    1.25  \n",
       "358465    delivered    1.69  \n",
       "358466    delivered    1.69  \n",
       "358467    delivered    9.90  \n",
       "358468    delivered    2.50  \n",
       "\n",
       "[358469 rows x 11 columns]"
      ]
     },
     "execution_count": 106,
     "metadata": {},
     "output_type": "execute_result"
    }
   ],
   "source": [
    "# menghapus outlier\n",
    "from scipy import stats\n",
    "df_clean = df_clean[(np.abs(stats.zscore(df_clean[['quantity','amount']]))<3).all(axis=1)]\n",
    "\n",
    "# reset index\n",
    "df_clean = df_clean.reset_index(drop=True)\n",
    "df_clean"
   ]
  },
  {
   "cell_type": "code",
   "execution_count": 107,
   "id": "35c21a9d",
   "metadata": {
    "execution": {
     "iopub.execute_input": "2025-02-05T18:06:23.830703Z",
     "iopub.status.busy": "2025-02-05T18:06:23.830134Z",
     "iopub.status.idle": "2025-02-05T18:06:23.938315Z",
     "shell.execute_reply": "2025-02-05T18:06:23.936929Z"
    },
    "executionInfo": {
     "elapsed": 8,
     "status": "ok",
     "timestamp": 1738341881897,
     "user": {
      "displayName": "Isma Dian Damara",
      "userId": "03128721927476324285"
     },
     "user_tz": -420
    },
    "id": "EErY_yqw0yvY",
    "outputId": "ce4632a1-4aa4-406f-faef-f2eccd069e14",
    "papermill": {
     "duration": 0.132347,
     "end_time": "2025-02-05T18:06:23.940061",
     "exception": false,
     "start_time": "2025-02-05T18:06:23.807714",
     "status": "completed"
    },
    "tags": []
   },
   "outputs": [
    {
     "name": "stdout",
     "output_type": "stream",
     "text": [
      "<class 'pandas.core.frame.DataFrame'>\n",
      "RangeIndex: 358469 entries, 0 to 358468\n",
      "Data columns (total 11 columns):\n",
      " #   Column        Non-Null Count   Dtype         \n",
      "---  ------        --------------   -----         \n",
      " 0   order_id      358469 non-null  object        \n",
      " 1   product_code  358469 non-null  object        \n",
      " 2   product_name  358469 non-null  object        \n",
      " 3   quantity      358469 non-null  int64         \n",
      " 4   order_date    358469 non-null  datetime64[ns]\n",
      " 5   price         358469 non-null  float64       \n",
      " 6   customer_id   358469 non-null  object        \n",
      " 7   date          358469 non-null  datetime64[ns]\n",
      " 8   year_month    358469 non-null  period[M]     \n",
      " 9   order_status  358469 non-null  object        \n",
      " 10  amount        358469 non-null  float64       \n",
      "dtypes: datetime64[ns](2), float64(2), int64(1), object(5), period[M](1)\n",
      "memory usage: 30.1+ MB\n"
     ]
    }
   ],
   "source": [
    "df_clean.info()"
   ]
  },
  {
   "cell_type": "markdown",
   "id": "5d25c096",
   "metadata": {
    "id": "gbhRqJQRqQGz",
    "papermill": {
     "duration": 0.019597,
     "end_time": "2025-02-05T18:06:23.978607",
     "exception": false,
     "start_time": "2025-02-05T18:06:23.959010",
     "status": "completed"
    },
    "tags": []
   },
   "source": [
    "### **Clean Data**"
   ]
  },
  {
   "cell_type": "code",
   "execution_count": 108,
   "id": "94b6cd9a",
   "metadata": {
    "execution": {
     "iopub.execute_input": "2025-02-05T18:06:24.016334Z",
     "iopub.status.busy": "2025-02-05T18:06:24.015922Z",
     "iopub.status.idle": "2025-02-05T18:06:27.110140Z",
     "shell.execute_reply": "2025-02-05T18:06:27.108957Z"
    },
    "id": "FLLaESOQqT4N",
    "papermill": {
     "duration": 3.115288,
     "end_time": "2025-02-05T18:06:27.112114",
     "exception": false,
     "start_time": "2025-02-05T18:06:23.996826",
     "status": "completed"
    },
    "tags": []
   },
   "outputs": [],
   "source": [
    "df_clean.to_csv('../data/Online_Retail_Data_Clean.csv', index=False)"
   ]
  },
  {
   "cell_type": "markdown",
   "id": "adbe4177",
   "metadata": {
    "id": "RfNLiItE3TIR",
    "papermill": {
     "duration": 0.021662,
     "end_time": "2025-02-05T18:06:29.730388",
     "exception": false,
     "start_time": "2025-02-05T18:06:29.708726",
     "status": "completed"
    },
    "tags": []
   },
   "source": [
    "## **CUSTOMER SEGMENTATION (RFM)**\n",
    "\n",
    "User Segmentation adalah sebuah algoritma yang digunakan untuk mengelompokkan pelanggan berdasarkan berbagai segmen, sehingga dapat memahami karakteristik masing-masing kelompok untuk strategi pemasaran yang lebih efektif"
   ]
  },
  {
   "cell_type": "markdown",
   "id": "a460c03d",
   "metadata": {
    "id": "-WPM-5OC3s9g",
    "papermill": {
     "duration": 0.022249,
     "end_time": "2025-02-05T18:06:29.774646",
     "exception": false,
     "start_time": "2025-02-05T18:06:29.752397",
     "status": "completed"
    },
    "tags": []
   },
   "source": [
    "### **Menyusun Ringkasan Transaksi untuk Setiap Pengguna**\n",
    "\n",
    "Membuat ringkasan data transaksi untuk setiap pengguna, yang mencakup: total jumlah pesanan (**total transaksi/order**), total nilai pesanan (**total order value**), dan **tanggal pesanan terakhir**. Ringkasan ini memberikan gambaran lengkap mengenai perilaku transaksi tiap pengguna dari sisi frekuensi, nilai pembelian, serta waktu terakhir mereka melakukan pesanan."
   ]
  },
  {
   "cell_type": "code",
   "execution_count": 109,
   "id": "b6e884c1",
   "metadata": {
    "execution": {
     "iopub.execute_input": "2025-02-05T18:06:29.820090Z",
     "iopub.status.busy": "2025-02-05T18:06:29.819668Z",
     "iopub.status.idle": "2025-02-05T18:06:29.906062Z",
     "shell.execute_reply": "2025-02-05T18:06:29.904527Z"
    },
    "executionInfo": {
     "elapsed": 1329,
     "status": "ok",
     "timestamp": 1738342019604,
     "user": {
      "displayName": "Isma Dian Damara",
      "userId": "03128721927476324285"
     },
     "user_tz": -420
    },
    "id": "M_SyraKq33DA",
    "outputId": "d44f6357-2046-4630-ae43-f6a5c151b58b",
    "papermill": {
     "duration": 0.111455,
     "end_time": "2025-02-05T18:06:29.908200",
     "exception": false,
     "start_time": "2025-02-05T18:06:29.796745",
     "status": "completed"
    },
    "tags": []
   },
   "outputs": [
    {
     "data": {
      "text/html": [
       "<div>\n",
       "<style scoped>\n",
       "    .dataframe tbody tr th:only-of-type {\n",
       "        vertical-align: middle;\n",
       "    }\n",
       "\n",
       "    .dataframe tbody tr th {\n",
       "        vertical-align: top;\n",
       "    }\n",
       "\n",
       "    .dataframe thead th {\n",
       "        text-align: right;\n",
       "    }\n",
       "</style>\n",
       "<table border=\"1\" class=\"dataframe\">\n",
       "  <thead>\n",
       "    <tr style=\"text-align: right;\">\n",
       "      <th></th>\n",
       "      <th>customer_id</th>\n",
       "      <th>order_cnt</th>\n",
       "      <th>max_order_date</th>\n",
       "      <th>total_order_value</th>\n",
       "    </tr>\n",
       "  </thead>\n",
       "  <tbody>\n",
       "    <tr>\n",
       "      <th>0</th>\n",
       "      <td>12346</td>\n",
       "      <td>5</td>\n",
       "      <td>2010-10-04</td>\n",
       "      <td>602.40</td>\n",
       "    </tr>\n",
       "    <tr>\n",
       "      <th>1</th>\n",
       "      <td>12608</td>\n",
       "      <td>1</td>\n",
       "      <td>2010-10-31</td>\n",
       "      <td>415.79</td>\n",
       "    </tr>\n",
       "    <tr>\n",
       "      <th>2</th>\n",
       "      <td>12745</td>\n",
       "      <td>2</td>\n",
       "      <td>2010-08-10</td>\n",
       "      <td>723.85</td>\n",
       "    </tr>\n",
       "    <tr>\n",
       "      <th>3</th>\n",
       "      <td>12746</td>\n",
       "      <td>2</td>\n",
       "      <td>2010-06-30</td>\n",
       "      <td>266.35</td>\n",
       "    </tr>\n",
       "    <tr>\n",
       "      <th>4</th>\n",
       "      <td>12747</td>\n",
       "      <td>19</td>\n",
       "      <td>2010-12-13</td>\n",
       "      <td>4094.79</td>\n",
       "    </tr>\n",
       "  </tbody>\n",
       "</table>\n",
       "</div>"
      ],
      "text/plain": [
       "  customer_id  order_cnt max_order_date  total_order_value\n",
       "0       12346          5     2010-10-04             602.40\n",
       "1       12608          1     2010-10-31             415.79\n",
       "2       12745          2     2010-08-10             723.85\n",
       "3       12746          2     2010-06-30             266.35\n",
       "4       12747         19     2010-12-13            4094.79"
      ]
     },
     "execution_count": 109,
     "metadata": {},
     "output_type": "execute_result"
    }
   ],
   "source": [
    "# jumlah order, tanggal order terakhir, dan total nilai order.\n",
    "df_user = df_clean.groupby('customer_id', as_index=False).agg(\n",
    "    order_cnt=('order_id', 'nunique'),\n",
    "    max_order_date=('date', 'max'),\n",
    "    total_order_value=('amount', 'sum')\n",
    ")\n",
    "\n",
    "# Tampilkan 5 baris pertama df_user.\n",
    "df_user.head()"
   ]
  },
  {
   "cell_type": "markdown",
   "id": "e91e86c8",
   "metadata": {
    "id": "xDuqSa129p7x",
    "papermill": {
     "duration": 0.0222,
     "end_time": "2025-02-05T18:06:29.953213",
     "exception": false,
     "start_time": "2025-02-05T18:06:29.931013",
     "status": "completed"
    },
    "tags": []
   },
   "source": [
    "### **Menambahkan Kolom Jumlah Hari Sejak Pesanan Terakhir**\n",
    "\n",
    "Membuat kolom baru yang menghitung jumlah hari sejak tanggal pesanan terakhir untuk setiap pengguna. Kolom ini berguna untuk mengetahui waktu yang telah berlalu sejak aktivitas terakhir pengguna, membantu analisis perilaku pelanggan dan mengidentifikasi pengguna yang mungkin tidak aktif."
   ]
  },
  {
   "cell_type": "code",
   "execution_count": 110,
   "id": "3caa0813",
   "metadata": {
    "execution": {
     "iopub.execute_input": "2025-02-05T18:06:29.999172Z",
     "iopub.status.busy": "2025-02-05T18:06:29.998706Z",
     "iopub.status.idle": "2025-02-05T18:06:30.014007Z",
     "shell.execute_reply": "2025-02-05T18:06:30.012901Z"
    },
    "executionInfo": {
     "elapsed": 57,
     "status": "ok",
     "timestamp": 1735035604246,
     "user": {
      "displayName": "Isma Dian Damara",
      "userId": "03128721927476324285"
     },
     "user_tz": -420
    },
    "id": "yCR-v-9N91nU",
    "outputId": "4f5757dc-cdc6-4ed4-b3f2-e67610653835",
    "papermill": {
     "duration": 0.040505,
     "end_time": "2025-02-05T18:06:30.016032",
     "exception": false,
     "start_time": "2025-02-05T18:06:29.975527",
     "status": "completed"
    },
    "tags": []
   },
   "outputs": [
    {
     "data": {
      "text/html": [
       "<div>\n",
       "<style scoped>\n",
       "    .dataframe tbody tr th:only-of-type {\n",
       "        vertical-align: middle;\n",
       "    }\n",
       "\n",
       "    .dataframe tbody tr th {\n",
       "        vertical-align: top;\n",
       "    }\n",
       "\n",
       "    .dataframe thead th {\n",
       "        text-align: right;\n",
       "    }\n",
       "</style>\n",
       "<table border=\"1\" class=\"dataframe\">\n",
       "  <thead>\n",
       "    <tr style=\"text-align: right;\">\n",
       "      <th></th>\n",
       "      <th>customer_id</th>\n",
       "      <th>order_cnt</th>\n",
       "      <th>max_order_date</th>\n",
       "      <th>total_order_value</th>\n",
       "      <th>day_since_last_order</th>\n",
       "    </tr>\n",
       "  </thead>\n",
       "  <tbody>\n",
       "    <tr>\n",
       "      <th>0</th>\n",
       "      <td>12346</td>\n",
       "      <td>5</td>\n",
       "      <td>2010-10-04</td>\n",
       "      <td>602.40</td>\n",
       "      <td>80</td>\n",
       "    </tr>\n",
       "    <tr>\n",
       "      <th>1</th>\n",
       "      <td>12608</td>\n",
       "      <td>1</td>\n",
       "      <td>2010-10-31</td>\n",
       "      <td>415.79</td>\n",
       "      <td>53</td>\n",
       "    </tr>\n",
       "    <tr>\n",
       "      <th>2</th>\n",
       "      <td>12745</td>\n",
       "      <td>2</td>\n",
       "      <td>2010-08-10</td>\n",
       "      <td>723.85</td>\n",
       "      <td>135</td>\n",
       "    </tr>\n",
       "    <tr>\n",
       "      <th>3</th>\n",
       "      <td>12746</td>\n",
       "      <td>2</td>\n",
       "      <td>2010-06-30</td>\n",
       "      <td>266.35</td>\n",
       "      <td>176</td>\n",
       "    </tr>\n",
       "    <tr>\n",
       "      <th>4</th>\n",
       "      <td>12747</td>\n",
       "      <td>19</td>\n",
       "      <td>2010-12-13</td>\n",
       "      <td>4094.79</td>\n",
       "      <td>10</td>\n",
       "    </tr>\n",
       "  </tbody>\n",
       "</table>\n",
       "</div>"
      ],
      "text/plain": [
       "  customer_id  order_cnt max_order_date  total_order_value   \n",
       "0       12346          5     2010-10-04             602.40  \\\n",
       "1       12608          1     2010-10-31             415.79   \n",
       "2       12745          2     2010-08-10             723.85   \n",
       "3       12746          2     2010-06-30             266.35   \n",
       "4       12747         19     2010-12-13            4094.79   \n",
       "\n",
       "   day_since_last_order  \n",
       "0                    80  \n",
       "1                    53  \n",
       "2                   135  \n",
       "3                   176  \n",
       "4                    10  "
      ]
     },
     "execution_count": 110,
     "metadata": {},
     "output_type": "execute_result"
    }
   ],
   "source": [
    "# Tanggal terakhir dalam dataset\n",
    "today = df_clean['date'].max()\n",
    "\n",
    "# Hitung selisih hari sejak pesanan terakhir\n",
    "df_user['day_since_last_order'] = (today - df_user['max_order_date']).dt.days\n",
    "\n",
    "# Tampilkan DataFrame df_user\n",
    "df_user.head()"
   ]
  },
  {
   "cell_type": "code",
   "execution_count": 111,
   "id": "586b1c49",
   "metadata": {
    "execution": {
     "iopub.execute_input": "2025-02-05T18:06:30.063302Z",
     "iopub.status.busy": "2025-02-05T18:06:30.062901Z",
     "iopub.status.idle": "2025-02-05T18:06:30.084919Z",
     "shell.execute_reply": "2025-02-05T18:06:30.083607Z"
    },
    "executionInfo": {
     "elapsed": 57,
     "status": "ok",
     "timestamp": 1735035604247,
     "user": {
      "displayName": "Isma Dian Damara",
      "userId": "03128721927476324285"
     },
     "user_tz": -420
    },
    "id": "ICrCDGGe-ZYk",
    "outputId": "58de636b-ce74-4df8-95bf-bcbf78c9659e",
    "papermill": {
     "duration": 0.047839,
     "end_time": "2025-02-05T18:06:30.086937",
     "exception": false,
     "start_time": "2025-02-05T18:06:30.039098",
     "status": "completed"
    },
    "tags": []
   },
   "outputs": [
    {
     "data": {
      "text/html": [
       "<div>\n",
       "<style scoped>\n",
       "    .dataframe tbody tr th:only-of-type {\n",
       "        vertical-align: middle;\n",
       "    }\n",
       "\n",
       "    .dataframe tbody tr th {\n",
       "        vertical-align: top;\n",
       "    }\n",
       "\n",
       "    .dataframe thead th {\n",
       "        text-align: right;\n",
       "    }\n",
       "</style>\n",
       "<table border=\"1\" class=\"dataframe\">\n",
       "  <thead>\n",
       "    <tr style=\"text-align: right;\">\n",
       "      <th></th>\n",
       "      <th>order_cnt</th>\n",
       "      <th>max_order_date</th>\n",
       "      <th>total_order_value</th>\n",
       "      <th>day_since_last_order</th>\n",
       "    </tr>\n",
       "  </thead>\n",
       "  <tbody>\n",
       "    <tr>\n",
       "      <th>count</th>\n",
       "      <td>3889.000000</td>\n",
       "      <td>3889</td>\n",
       "      <td>3889.000000</td>\n",
       "      <td>3889.000000</td>\n",
       "    </tr>\n",
       "    <tr>\n",
       "      <th>mean</th>\n",
       "      <td>5.128568</td>\n",
       "      <td>2010-09-23 04:46:57.793777664</td>\n",
       "      <td>1544.623084</td>\n",
       "      <td>90.800720</td>\n",
       "    </tr>\n",
       "    <tr>\n",
       "      <th>min</th>\n",
       "      <td>1.000000</td>\n",
       "      <td>2010-01-05 00:00:00</td>\n",
       "      <td>1.250000</td>\n",
       "      <td>0.000000</td>\n",
       "    </tr>\n",
       "    <tr>\n",
       "      <th>25%</th>\n",
       "      <td>1.000000</td>\n",
       "      <td>2010-08-19 00:00:00</td>\n",
       "      <td>296.360000</td>\n",
       "      <td>25.000000</td>\n",
       "    </tr>\n",
       "    <tr>\n",
       "      <th>50%</th>\n",
       "      <td>3.000000</td>\n",
       "      <td>2010-10-26 00:00:00</td>\n",
       "      <td>648.200000</td>\n",
       "      <td>58.000000</td>\n",
       "    </tr>\n",
       "    <tr>\n",
       "      <th>75%</th>\n",
       "      <td>6.000000</td>\n",
       "      <td>2010-11-28 00:00:00</td>\n",
       "      <td>1585.940000</td>\n",
       "      <td>126.000000</td>\n",
       "    </tr>\n",
       "    <tr>\n",
       "      <th>max</th>\n",
       "      <td>163.000000</td>\n",
       "      <td>2010-12-23 00:00:00</td>\n",
       "      <td>71970.390000</td>\n",
       "      <td>352.000000</td>\n",
       "    </tr>\n",
       "    <tr>\n",
       "      <th>std</th>\n",
       "      <td>8.499330</td>\n",
       "      <td>NaN</td>\n",
       "      <td>3434.816315</td>\n",
       "      <td>88.873286</td>\n",
       "    </tr>\n",
       "  </tbody>\n",
       "</table>\n",
       "</div>"
      ],
      "text/plain": [
       "         order_cnt                 max_order_date  total_order_value   \n",
       "count  3889.000000                           3889        3889.000000  \\\n",
       "mean      5.128568  2010-09-23 04:46:57.793777664        1544.623084   \n",
       "min       1.000000            2010-01-05 00:00:00           1.250000   \n",
       "25%       1.000000            2010-08-19 00:00:00         296.360000   \n",
       "50%       3.000000            2010-10-26 00:00:00         648.200000   \n",
       "75%       6.000000            2010-11-28 00:00:00        1585.940000   \n",
       "max     163.000000            2010-12-23 00:00:00       71970.390000   \n",
       "std       8.499330                            NaN        3434.816315   \n",
       "\n",
       "       day_since_last_order  \n",
       "count           3889.000000  \n",
       "mean              90.800720  \n",
       "min                0.000000  \n",
       "25%               25.000000  \n",
       "50%               58.000000  \n",
       "75%              126.000000  \n",
       "max              352.000000  \n",
       "std               88.873286  "
      ]
     },
     "execution_count": 111,
     "metadata": {},
     "output_type": "execute_result"
    }
   ],
   "source": [
    "# melihat deskripsi statistik data\n",
    "df_user.describe()"
   ]
  },
  {
   "cell_type": "code",
   "execution_count": 112,
   "id": "45b841b0",
   "metadata": {
    "execution": {
     "iopub.execute_input": "2025-02-05T18:06:30.135367Z",
     "iopub.status.busy": "2025-02-05T18:06:30.134922Z",
     "iopub.status.idle": "2025-02-05T18:06:30.148576Z",
     "shell.execute_reply": "2025-02-05T18:06:30.147370Z"
    },
    "executionInfo": {
     "elapsed": 55,
     "status": "ok",
     "timestamp": 1735035604247,
     "user": {
      "displayName": "Isma Dian Damara",
      "userId": "03128721927476324285"
     },
     "user_tz": -420
    },
    "id": "KMOt5mu5-pFJ",
    "outputId": "459b06dc-497f-4099-9d54-6a6e95a5187c",
    "papermill": {
     "duration": 0.039786,
     "end_time": "2025-02-05T18:06:30.150320",
     "exception": false,
     "start_time": "2025-02-05T18:06:30.110534",
     "status": "completed"
    },
    "tags": []
   },
   "outputs": [
    {
     "name": "stdout",
     "output_type": "stream",
     "text": [
      "<class 'pandas.core.frame.DataFrame'>\n",
      "RangeIndex: 3889 entries, 0 to 3888\n",
      "Data columns (total 5 columns):\n",
      " #   Column                Non-Null Count  Dtype         \n",
      "---  ------                --------------  -----         \n",
      " 0   customer_id           3889 non-null   object        \n",
      " 1   order_cnt             3889 non-null   int64         \n",
      " 2   max_order_date        3889 non-null   datetime64[ns]\n",
      " 3   total_order_value     3889 non-null   float64       \n",
      " 4   day_since_last_order  3889 non-null   int64         \n",
      "dtypes: datetime64[ns](1), float64(1), int64(2), object(1)\n",
      "memory usage: 152.0+ KB\n"
     ]
    }
   ],
   "source": [
    "df_user.info()"
   ]
  },
  {
   "cell_type": "markdown",
   "id": "e7546e5e",
   "metadata": {
    "id": "qfQwddYQ_MNg",
    "papermill": {
     "duration": 0.022095,
     "end_time": "2025-02-05T18:06:30.195169",
     "exception": false,
     "start_time": "2025-02-05T18:06:30.173074",
     "status": "completed"
    },
    "tags": []
   },
   "source": [
    "### **Mengelompokkan Jumlah Hari Sejak Pesanan Terakhir ke dalam 5 Kelompok (Binning)**\n",
    "\n",
    "Melakukan binning pada kolom jumlah hari sejak pesanan terakhir dengan membagi data ke dalam 5 kelompok berdasarkan nilai minimum (**min**), persentil ke-20 (**P20**), persentil ke-40 (**P40**), persentil ke-60 (**P60**), persentil ke-80 (**P80**), dan nilai maksimum (**max**). Setiap bin diberi label dari 1 hingga 5, di mana bin dengan jumlah hari terbesar mendapatkan skor **1** (artinya aktivitas terbaru paling lama), dan bin dengan jumlah hari terkecil mendapatkan skor **5** (artinya aktivitas terbaru paling dekat). Skor ini dikenal sebagai **Recency Score** untuk menilai seberapa baru pengguna melakukan aktivitas terakhirnya."
   ]
  },
  {
   "cell_type": "code",
   "execution_count": 113,
   "id": "86a0526b",
   "metadata": {
    "execution": {
     "iopub.execute_input": "2025-02-05T18:06:30.242339Z",
     "iopub.status.busy": "2025-02-05T18:06:30.241899Z",
     "iopub.status.idle": "2025-02-05T18:06:30.260120Z",
     "shell.execute_reply": "2025-02-05T18:06:30.258994Z"
    },
    "executionInfo": {
     "elapsed": 48,
     "status": "ok",
     "timestamp": 1735035604247,
     "user": {
      "displayName": "Isma Dian Damara",
      "userId": "03128721927476324285"
     },
     "user_tz": -420
    },
    "id": "BrJ0m8fj_PHr",
    "outputId": "3b34b75d-780f-44bf-cee7-6d0ce4fb623b",
    "papermill": {
     "duration": 0.043787,
     "end_time": "2025-02-05T18:06:30.261884",
     "exception": false,
     "start_time": "2025-02-05T18:06:30.218097",
     "status": "completed"
    },
    "tags": []
   },
   "outputs": [
    {
     "data": {
      "text/html": [
       "<div>\n",
       "<style scoped>\n",
       "    .dataframe tbody tr th:only-of-type {\n",
       "        vertical-align: middle;\n",
       "    }\n",
       "\n",
       "    .dataframe tbody tr th {\n",
       "        vertical-align: top;\n",
       "    }\n",
       "\n",
       "    .dataframe thead th {\n",
       "        text-align: right;\n",
       "    }\n",
       "</style>\n",
       "<table border=\"1\" class=\"dataframe\">\n",
       "  <thead>\n",
       "    <tr style=\"text-align: right;\">\n",
       "      <th></th>\n",
       "      <th>customer_id</th>\n",
       "      <th>order_cnt</th>\n",
       "      <th>max_order_date</th>\n",
       "      <th>total_order_value</th>\n",
       "      <th>day_since_last_order</th>\n",
       "      <th>recency_score</th>\n",
       "    </tr>\n",
       "  </thead>\n",
       "  <tbody>\n",
       "    <tr>\n",
       "      <th>0</th>\n",
       "      <td>12346</td>\n",
       "      <td>5</td>\n",
       "      <td>2010-10-04</td>\n",
       "      <td>602.40</td>\n",
       "      <td>80</td>\n",
       "      <td>2</td>\n",
       "    </tr>\n",
       "    <tr>\n",
       "      <th>1</th>\n",
       "      <td>12608</td>\n",
       "      <td>1</td>\n",
       "      <td>2010-10-31</td>\n",
       "      <td>415.79</td>\n",
       "      <td>53</td>\n",
       "      <td>3</td>\n",
       "    </tr>\n",
       "    <tr>\n",
       "      <th>2</th>\n",
       "      <td>12745</td>\n",
       "      <td>2</td>\n",
       "      <td>2010-08-10</td>\n",
       "      <td>723.85</td>\n",
       "      <td>135</td>\n",
       "      <td>2</td>\n",
       "    </tr>\n",
       "    <tr>\n",
       "      <th>3</th>\n",
       "      <td>12746</td>\n",
       "      <td>2</td>\n",
       "      <td>2010-06-30</td>\n",
       "      <td>266.35</td>\n",
       "      <td>176</td>\n",
       "      <td>1</td>\n",
       "    </tr>\n",
       "    <tr>\n",
       "      <th>4</th>\n",
       "      <td>12747</td>\n",
       "      <td>19</td>\n",
       "      <td>2010-12-13</td>\n",
       "      <td>4094.79</td>\n",
       "      <td>10</td>\n",
       "      <td>5</td>\n",
       "    </tr>\n",
       "  </tbody>\n",
       "</table>\n",
       "</div>"
      ],
      "text/plain": [
       "  customer_id  order_cnt max_order_date  total_order_value   \n",
       "0       12346          5     2010-10-04             602.40  \\\n",
       "1       12608          1     2010-10-31             415.79   \n",
       "2       12745          2     2010-08-10             723.85   \n",
       "3       12746          2     2010-06-30             266.35   \n",
       "4       12747         19     2010-12-13            4094.79   \n",
       "\n",
       "   day_since_last_order  recency_score  \n",
       "0                    80              2  \n",
       "1                    53              3  \n",
       "2                   135              2  \n",
       "3                   176              1  \n",
       "4                    10              5  "
      ]
     },
     "execution_count": 113,
     "metadata": {},
     "output_type": "execute_result"
    }
   ],
   "source": [
    "# Menghitung Recency Score dan menambahkannya sebagai kolom baru di df_user\n",
    "df_user['recency_score'] = pd.cut(df_user['day_since_last_order'], # Data yang akan dikelompokkan (hari sejak pesanan terakhir)\n",
    "                                    bins=[\n",
    "                                        df_user['day_since_last_order'].min(),  # Nilai minimum untuk pengelompokan\n",
    "                                        np.percentile(df_user['day_since_last_order'], 20),  # Persentil ke-20\n",
    "                                        np.percentile(df_user['day_since_last_order'], 40),  # Persentil ke-40\n",
    "                                        np.percentile(df_user['day_since_last_order'], 60),  # Persentil ke-60\n",
    "                                        np.percentile(df_user['day_since_last_order'], 80),  # Persentil ke-80\n",
    "                                        df_user['day_since_last_order'].max()],   # Nilai maksimum untuk pengelompokan\n",
    "                                    labels=[5, 4, 3, 2, 1],  # Label untuk setiap kelompok (Recency Score)\n",
    "                                    include_lowest=True).astype(int)\n",
    "\n",
    "df_user.head()"
   ]
  },
  {
   "cell_type": "code",
   "execution_count": 114,
   "id": "318100f1",
   "metadata": {
    "execution": {
     "iopub.execute_input": "2025-02-05T18:06:30.309610Z",
     "iopub.status.busy": "2025-02-05T18:06:30.309219Z",
     "iopub.status.idle": "2025-02-05T18:06:30.323234Z",
     "shell.execute_reply": "2025-02-05T18:06:30.321709Z"
    },
    "executionInfo": {
     "elapsed": 46,
     "status": "ok",
     "timestamp": 1735035604247,
     "user": {
      "displayName": "Isma Dian Damara",
      "userId": "03128721927476324285"
     },
     "user_tz": -420
    },
    "id": "XLg2uyMA_453",
    "outputId": "abdcf35c-97dd-4def-fde2-d81d3f8587b3",
    "papermill": {
     "duration": 0.039693,
     "end_time": "2025-02-05T18:06:30.324897",
     "exception": false,
     "start_time": "2025-02-05T18:06:30.285204",
     "status": "completed"
    },
    "tags": []
   },
   "outputs": [
    {
     "name": "stdout",
     "output_type": "stream",
     "text": [
      "<class 'pandas.core.frame.DataFrame'>\n",
      "RangeIndex: 3889 entries, 0 to 3888\n",
      "Data columns (total 6 columns):\n",
      " #   Column                Non-Null Count  Dtype         \n",
      "---  ------                --------------  -----         \n",
      " 0   customer_id           3889 non-null   object        \n",
      " 1   order_cnt             3889 non-null   int64         \n",
      " 2   max_order_date        3889 non-null   datetime64[ns]\n",
      " 3   total_order_value     3889 non-null   float64       \n",
      " 4   day_since_last_order  3889 non-null   int64         \n",
      " 5   recency_score         3889 non-null   int32         \n",
      "dtypes: datetime64[ns](1), float64(1), int32(1), int64(2), object(1)\n",
      "memory usage: 167.2+ KB\n"
     ]
    }
   ],
   "source": [
    "df_user.info()"
   ]
  },
  {
   "cell_type": "markdown",
   "id": "04ce670a",
   "metadata": {
    "id": "4wO7XAeMAAnh",
    "papermill": {
     "duration": 0.023596,
     "end_time": "2025-02-05T18:06:30.371667",
     "exception": false,
     "start_time": "2025-02-05T18:06:30.348071",
     "status": "completed"
    },
    "tags": []
   },
   "source": [
    "### **Mengelompokkan Total Transaksi ke dalam 5 Kelompok (Binning)**\n",
    "\n",
    "Melakukan binning pada kolom total transaksi (order) dengan membagi data menjadi 5 kelompok berdasarkan nilai minimum (**min**), persentil ke-20 (**P20**), persentil ke-40 (**P40**), persentil ke-60 (**P60**), persentil ke-80 (**P80**), dan nilai maksimum (**max**). Setiap bin diberi label dari **1** hingga **5**, di mana bin dengan jumlah transaksi terendah diberi skor **1**, dan bin dengan jumlah transaksi tertinggi diberi skor **5**. Skor ini disebut **Frequency Score** dan digunakan untuk menilai seberapa sering pengguna melakukan transaksi."
   ]
  },
  {
   "cell_type": "code",
   "execution_count": 115,
   "id": "e24712e9",
   "metadata": {
    "execution": {
     "iopub.execute_input": "2025-02-05T18:06:30.420213Z",
     "iopub.status.busy": "2025-02-05T18:06:30.419814Z",
     "iopub.status.idle": "2025-02-05T18:06:30.436083Z",
     "shell.execute_reply": "2025-02-05T18:06:30.435038Z"
    },
    "executionInfo": {
     "elapsed": 43,
     "status": "ok",
     "timestamp": 1735035604248,
     "user": {
      "displayName": "Isma Dian Damara",
      "userId": "03128721927476324285"
     },
     "user_tz": -420
    },
    "id": "0Xh28hY8AQa_",
    "outputId": "6f33f451-831e-471a-e169-221984e4bc5d",
    "papermill": {
     "duration": 0.042117,
     "end_time": "2025-02-05T18:06:30.437779",
     "exception": false,
     "start_time": "2025-02-05T18:06:30.395662",
     "status": "completed"
    },
    "tags": []
   },
   "outputs": [
    {
     "data": {
      "text/html": [
       "<div>\n",
       "<style scoped>\n",
       "    .dataframe tbody tr th:only-of-type {\n",
       "        vertical-align: middle;\n",
       "    }\n",
       "\n",
       "    .dataframe tbody tr th {\n",
       "        vertical-align: top;\n",
       "    }\n",
       "\n",
       "    .dataframe thead th {\n",
       "        text-align: right;\n",
       "    }\n",
       "</style>\n",
       "<table border=\"1\" class=\"dataframe\">\n",
       "  <thead>\n",
       "    <tr style=\"text-align: right;\">\n",
       "      <th></th>\n",
       "      <th>customer_id</th>\n",
       "      <th>order_cnt</th>\n",
       "      <th>max_order_date</th>\n",
       "      <th>total_order_value</th>\n",
       "      <th>day_since_last_order</th>\n",
       "      <th>recency_score</th>\n",
       "      <th>frequency_score</th>\n",
       "    </tr>\n",
       "  </thead>\n",
       "  <tbody>\n",
       "    <tr>\n",
       "      <th>0</th>\n",
       "      <td>12346</td>\n",
       "      <td>5</td>\n",
       "      <td>2010-10-04</td>\n",
       "      <td>602.40</td>\n",
       "      <td>80</td>\n",
       "      <td>2</td>\n",
       "      <td>4</td>\n",
       "    </tr>\n",
       "    <tr>\n",
       "      <th>1</th>\n",
       "      <td>12608</td>\n",
       "      <td>1</td>\n",
       "      <td>2010-10-31</td>\n",
       "      <td>415.79</td>\n",
       "      <td>53</td>\n",
       "      <td>3</td>\n",
       "      <td>1</td>\n",
       "    </tr>\n",
       "    <tr>\n",
       "      <th>2</th>\n",
       "      <td>12745</td>\n",
       "      <td>2</td>\n",
       "      <td>2010-08-10</td>\n",
       "      <td>723.85</td>\n",
       "      <td>135</td>\n",
       "      <td>2</td>\n",
       "      <td>2</td>\n",
       "    </tr>\n",
       "    <tr>\n",
       "      <th>3</th>\n",
       "      <td>12746</td>\n",
       "      <td>2</td>\n",
       "      <td>2010-06-30</td>\n",
       "      <td>266.35</td>\n",
       "      <td>176</td>\n",
       "      <td>1</td>\n",
       "      <td>2</td>\n",
       "    </tr>\n",
       "    <tr>\n",
       "      <th>4</th>\n",
       "      <td>12747</td>\n",
       "      <td>19</td>\n",
       "      <td>2010-12-13</td>\n",
       "      <td>4094.79</td>\n",
       "      <td>10</td>\n",
       "      <td>5</td>\n",
       "      <td>5</td>\n",
       "    </tr>\n",
       "  </tbody>\n",
       "</table>\n",
       "</div>"
      ],
      "text/plain": [
       "  customer_id  order_cnt max_order_date  total_order_value   \n",
       "0       12346          5     2010-10-04             602.40  \\\n",
       "1       12608          1     2010-10-31             415.79   \n",
       "2       12745          2     2010-08-10             723.85   \n",
       "3       12746          2     2010-06-30             266.35   \n",
       "4       12747         19     2010-12-13            4094.79   \n",
       "\n",
       "   day_since_last_order  recency_score  frequency_score  \n",
       "0                    80              2                4  \n",
       "1                    53              3                1  \n",
       "2                   135              2                2  \n",
       "3                   176              1                2  \n",
       "4                    10              5                5  "
      ]
     },
     "execution_count": 115,
     "metadata": {},
     "output_type": "execute_result"
    }
   ],
   "source": [
    "# Menghitung Recency Score dan menambahkannya sebagai kolom baru di df_user\n",
    "df_user['frequency_score'] = pd.cut(df_user['order_cnt'], # Data yang akan dikelompokkan\n",
    "                                    bins=[0,  # Nilai minimum untuk pengelompokan\n",
    "                                        np.percentile(df_user['order_cnt'], 20),  # Persentil ke-20\n",
    "                                        np.percentile(df_user['order_cnt'], 40),  # Persentil ke-40\n",
    "                                        np.percentile(df_user['order_cnt'], 60),  # Persentil ke-60\n",
    "                                        np.percentile(df_user['order_cnt'], 80),  # Persentil ke-80\n",
    "                                        df_user['order_cnt'].max()],   # Nilai maksimum untuk pengelompokan\n",
    "                                    labels=[1, 2, 3, 4, 5],  # Label untuk setiap kelompok\n",
    "                                    include_lowest=True, duplicates='drop').astype(int)\n",
    "\n",
    "df_user.head()"
   ]
  },
  {
   "cell_type": "markdown",
   "id": "4d82bfc4",
   "metadata": {
    "id": "TX74d4ALDiQO",
    "papermill": {
     "duration": 0.023947,
     "end_time": "2025-02-05T18:06:30.484846",
     "exception": false,
     "start_time": "2025-02-05T18:06:30.460899",
     "status": "completed"
    },
    "tags": []
   },
   "source": [
    "### **Pengelompokan Total Nilai Pesanan untuk Menentukan Skor Monetary**\n",
    "\n",
    "Melakukan binning pada total nilai pesanan (order value) menjadi 5 kelompok berdasarkan min, P20, P40, P60, P80, dan max. Kelompok diberi skor 1-5, di mana nilai terendah mendapat skor 1, dan tertinggi 5. Skor ini mengukur kontribusi finansial tiap pengguna."
   ]
  },
  {
   "cell_type": "code",
   "execution_count": 116,
   "id": "f3b32848",
   "metadata": {
    "execution": {
     "iopub.execute_input": "2025-02-05T18:06:30.533716Z",
     "iopub.status.busy": "2025-02-05T18:06:30.533348Z",
     "iopub.status.idle": "2025-02-05T18:06:30.550725Z",
     "shell.execute_reply": "2025-02-05T18:06:30.549627Z"
    },
    "executionInfo": {
     "elapsed": 40,
     "status": "ok",
     "timestamp": 1735035604248,
     "user": {
      "displayName": "Isma Dian Damara",
      "userId": "03128721927476324285"
     },
     "user_tz": -420
    },
    "id": "M6E-zpYtDTIK",
    "outputId": "f17e7bc6-bd67-4295-f314-7ac6f6d6789b",
    "papermill": {
     "duration": 0.044028,
     "end_time": "2025-02-05T18:06:30.552792",
     "exception": false,
     "start_time": "2025-02-05T18:06:30.508764",
     "status": "completed"
    },
    "tags": []
   },
   "outputs": [
    {
     "data": {
      "text/html": [
       "<div>\n",
       "<style scoped>\n",
       "    .dataframe tbody tr th:only-of-type {\n",
       "        vertical-align: middle;\n",
       "    }\n",
       "\n",
       "    .dataframe tbody tr th {\n",
       "        vertical-align: top;\n",
       "    }\n",
       "\n",
       "    .dataframe thead th {\n",
       "        text-align: right;\n",
       "    }\n",
       "</style>\n",
       "<table border=\"1\" class=\"dataframe\">\n",
       "  <thead>\n",
       "    <tr style=\"text-align: right;\">\n",
       "      <th></th>\n",
       "      <th>customer_id</th>\n",
       "      <th>order_cnt</th>\n",
       "      <th>max_order_date</th>\n",
       "      <th>total_order_value</th>\n",
       "      <th>day_since_last_order</th>\n",
       "      <th>recency_score</th>\n",
       "      <th>frequency_score</th>\n",
       "      <th>monetary_score</th>\n",
       "    </tr>\n",
       "  </thead>\n",
       "  <tbody>\n",
       "    <tr>\n",
       "      <th>0</th>\n",
       "      <td>12346</td>\n",
       "      <td>5</td>\n",
       "      <td>2010-10-04</td>\n",
       "      <td>602.40</td>\n",
       "      <td>80</td>\n",
       "      <td>2</td>\n",
       "      <td>4</td>\n",
       "      <td>3</td>\n",
       "    </tr>\n",
       "    <tr>\n",
       "      <th>1</th>\n",
       "      <td>12608</td>\n",
       "      <td>1</td>\n",
       "      <td>2010-10-31</td>\n",
       "      <td>415.79</td>\n",
       "      <td>53</td>\n",
       "      <td>3</td>\n",
       "      <td>1</td>\n",
       "      <td>2</td>\n",
       "    </tr>\n",
       "    <tr>\n",
       "      <th>2</th>\n",
       "      <td>12745</td>\n",
       "      <td>2</td>\n",
       "      <td>2010-08-10</td>\n",
       "      <td>723.85</td>\n",
       "      <td>135</td>\n",
       "      <td>2</td>\n",
       "      <td>2</td>\n",
       "      <td>3</td>\n",
       "    </tr>\n",
       "    <tr>\n",
       "      <th>3</th>\n",
       "      <td>12746</td>\n",
       "      <td>2</td>\n",
       "      <td>2010-06-30</td>\n",
       "      <td>266.35</td>\n",
       "      <td>176</td>\n",
       "      <td>1</td>\n",
       "      <td>2</td>\n",
       "      <td>2</td>\n",
       "    </tr>\n",
       "    <tr>\n",
       "      <th>4</th>\n",
       "      <td>12747</td>\n",
       "      <td>19</td>\n",
       "      <td>2010-12-13</td>\n",
       "      <td>4094.79</td>\n",
       "      <td>10</td>\n",
       "      <td>5</td>\n",
       "      <td>5</td>\n",
       "      <td>5</td>\n",
       "    </tr>\n",
       "  </tbody>\n",
       "</table>\n",
       "</div>"
      ],
      "text/plain": [
       "  customer_id  order_cnt max_order_date  total_order_value   \n",
       "0       12346          5     2010-10-04             602.40  \\\n",
       "1       12608          1     2010-10-31             415.79   \n",
       "2       12745          2     2010-08-10             723.85   \n",
       "3       12746          2     2010-06-30             266.35   \n",
       "4       12747         19     2010-12-13            4094.79   \n",
       "\n",
       "   day_since_last_order  recency_score  frequency_score  monetary_score  \n",
       "0                    80              2                4               3  \n",
       "1                    53              3                1               2  \n",
       "2                   135              2                2               3  \n",
       "3                   176              1                2               2  \n",
       "4                    10              5                5               5  "
      ]
     },
     "execution_count": 116,
     "metadata": {},
     "output_type": "execute_result"
    }
   ],
   "source": [
    "# Menghitung Recency Score dan menambahkannya sebagai kolom baru di df_user\n",
    "df_user['monetary_score'] = pd.cut(df_user['total_order_value'], # Data yang akan dikelompokkan\n",
    "                                    bins=[\n",
    "                                        df_user['total_order_value'].min(),  # Nilai minimum untuk pengelompokan\n",
    "                                        np.percentile(df_user['total_order_value'], 20),  # Persentil ke-20\n",
    "                                        np.percentile(df_user['total_order_value'], 40),  # Persentil ke-40\n",
    "                                        np.percentile(df_user['total_order_value'], 60),  # Persentil ke-60\n",
    "                                        np.percentile(df_user['total_order_value'], 80),  # Persentil ke-80\n",
    "                                        df_user['total_order_value'].max()],   # Nilai maksimum untuk pengelompokan\n",
    "                                    labels=[1, 2, 3, 4, 5],  # Label untuk setiap kelompok\n",
    "                                    include_lowest=True).astype(int)\n",
    "\n",
    "df_user.head()"
   ]
  },
  {
   "cell_type": "markdown",
   "id": "da54f839",
   "metadata": {
    "id": "vPKOEFBsEOzD",
    "papermill": {
     "duration": 0.023557,
     "end_time": "2025-02-05T18:06:30.601305",
     "exception": false,
     "start_time": "2025-02-05T18:06:30.577748",
     "status": "completed"
    },
    "tags": []
   },
   "source": [
    "### **Menentukan Nama Segmen Berdasarkan Skor Recency dan Frequency**\n",
    "\n",
    "Membuat kolom baru untuk menetapkan nama segmen pengguna berdasarkan kombinasi skor **Recency** dan **Frequency**. Segmen ini membantu mengkategorikan pengguna ke dalam kelompok tertentu sesuai dengan pola perilaku mereka, seperti:  \n",
    "\n",
    "- **High Frequency, Low Recency**: Pengguna aktif yang sering bertransaksi baru-baru ini.  \n",
    "- **High Frequency, High Recency**: Pengguna sering tetapi sudah lama tidak aktif.  \n",
    "- **Low Frequency, Low Recency**: Pengguna jarang tetapi masih cukup baru bertransaksi.  \n",
    "- **Low Frequency, High Recency**: Pengguna jarang dan sudah lama tidak bertransaksi.  \n",
    "\n",
    "Segmen ini dapat digunakan untuk strategi pemasaran yang lebih terfokus berdasarkan perilaku pelanggan."
   ]
  },
  {
   "cell_type": "code",
   "execution_count": 117,
   "id": "7f1906c1",
   "metadata": {
    "execution": {
     "iopub.execute_input": "2025-02-05T18:06:30.649956Z",
     "iopub.status.busy": "2025-02-05T18:06:30.649589Z",
     "iopub.status.idle": "2025-02-05T18:06:30.672833Z",
     "shell.execute_reply": "2025-02-05T18:06:30.671649Z"
    },
    "executionInfo": {
     "elapsed": 39,
     "status": "ok",
     "timestamp": 1735035604248,
     "user": {
      "displayName": "Isma Dian Damara",
      "userId": "03128721927476324285"
     },
     "user_tz": -420
    },
    "id": "3CHlwl_UESpv",
    "outputId": "84969393-9e3e-4b22-c58e-9154a0953edb",
    "papermill": {
     "duration": 0.049831,
     "end_time": "2025-02-05T18:06:30.674664",
     "exception": false,
     "start_time": "2025-02-05T18:06:30.624833",
     "status": "completed"
    },
    "tags": []
   },
   "outputs": [
    {
     "data": {
      "text/html": [
       "<div>\n",
       "<style scoped>\n",
       "    .dataframe tbody tr th:only-of-type {\n",
       "        vertical-align: middle;\n",
       "    }\n",
       "\n",
       "    .dataframe tbody tr th {\n",
       "        vertical-align: top;\n",
       "    }\n",
       "\n",
       "    .dataframe thead th {\n",
       "        text-align: right;\n",
       "    }\n",
       "</style>\n",
       "<table border=\"1\" class=\"dataframe\">\n",
       "  <thead>\n",
       "    <tr style=\"text-align: right;\">\n",
       "      <th></th>\n",
       "      <th>customer_id</th>\n",
       "      <th>order_cnt</th>\n",
       "      <th>max_order_date</th>\n",
       "      <th>total_order_value</th>\n",
       "      <th>day_since_last_order</th>\n",
       "      <th>recency_score</th>\n",
       "      <th>frequency_score</th>\n",
       "      <th>monetary_score</th>\n",
       "      <th>segment</th>\n",
       "    </tr>\n",
       "  </thead>\n",
       "  <tbody>\n",
       "    <tr>\n",
       "      <th>0</th>\n",
       "      <td>12346</td>\n",
       "      <td>5</td>\n",
       "      <td>2010-10-04</td>\n",
       "      <td>602.40</td>\n",
       "      <td>80</td>\n",
       "      <td>2</td>\n",
       "      <td>4</td>\n",
       "      <td>3</td>\n",
       "      <td>At Risk</td>\n",
       "    </tr>\n",
       "    <tr>\n",
       "      <th>1</th>\n",
       "      <td>12608</td>\n",
       "      <td>1</td>\n",
       "      <td>2010-10-31</td>\n",
       "      <td>415.79</td>\n",
       "      <td>53</td>\n",
       "      <td>3</td>\n",
       "      <td>1</td>\n",
       "      <td>2</td>\n",
       "      <td>About to Sleep</td>\n",
       "    </tr>\n",
       "    <tr>\n",
       "      <th>2</th>\n",
       "      <td>12745</td>\n",
       "      <td>2</td>\n",
       "      <td>2010-08-10</td>\n",
       "      <td>723.85</td>\n",
       "      <td>135</td>\n",
       "      <td>2</td>\n",
       "      <td>2</td>\n",
       "      <td>3</td>\n",
       "      <td>Hibernating</td>\n",
       "    </tr>\n",
       "    <tr>\n",
       "      <th>3</th>\n",
       "      <td>12746</td>\n",
       "      <td>2</td>\n",
       "      <td>2010-06-30</td>\n",
       "      <td>266.35</td>\n",
       "      <td>176</td>\n",
       "      <td>1</td>\n",
       "      <td>2</td>\n",
       "      <td>2</td>\n",
       "      <td>Hibernating</td>\n",
       "    </tr>\n",
       "    <tr>\n",
       "      <th>4</th>\n",
       "      <td>12747</td>\n",
       "      <td>19</td>\n",
       "      <td>2010-12-13</td>\n",
       "      <td>4094.79</td>\n",
       "      <td>10</td>\n",
       "      <td>5</td>\n",
       "      <td>5</td>\n",
       "      <td>5</td>\n",
       "      <td>Champion</td>\n",
       "    </tr>\n",
       "    <tr>\n",
       "      <th>...</th>\n",
       "      <td>...</td>\n",
       "      <td>...</td>\n",
       "      <td>...</td>\n",
       "      <td>...</td>\n",
       "      <td>...</td>\n",
       "      <td>...</td>\n",
       "      <td>...</td>\n",
       "      <td>...</td>\n",
       "      <td>...</td>\n",
       "    </tr>\n",
       "    <tr>\n",
       "      <th>3884</th>\n",
       "      <td>18283</td>\n",
       "      <td>6</td>\n",
       "      <td>2010-11-22</td>\n",
       "      <td>641.77</td>\n",
       "      <td>31</td>\n",
       "      <td>4</td>\n",
       "      <td>4</td>\n",
       "      <td>3</td>\n",
       "      <td>Loyal Customers</td>\n",
       "    </tr>\n",
       "    <tr>\n",
       "      <th>3885</th>\n",
       "      <td>18284</td>\n",
       "      <td>2</td>\n",
       "      <td>2010-10-06</td>\n",
       "      <td>486.68</td>\n",
       "      <td>78</td>\n",
       "      <td>2</td>\n",
       "      <td>2</td>\n",
       "      <td>3</td>\n",
       "      <td>Hibernating</td>\n",
       "    </tr>\n",
       "    <tr>\n",
       "      <th>3886</th>\n",
       "      <td>18285</td>\n",
       "      <td>1</td>\n",
       "      <td>2010-02-17</td>\n",
       "      <td>427.00</td>\n",
       "      <td>309</td>\n",
       "      <td>1</td>\n",
       "      <td>1</td>\n",
       "      <td>2</td>\n",
       "      <td>Hibernating</td>\n",
       "    </tr>\n",
       "    <tr>\n",
       "      <th>3887</th>\n",
       "      <td>18286</td>\n",
       "      <td>2</td>\n",
       "      <td>2010-08-20</td>\n",
       "      <td>941.48</td>\n",
       "      <td>125</td>\n",
       "      <td>2</td>\n",
       "      <td>2</td>\n",
       "      <td>4</td>\n",
       "      <td>Hibernating</td>\n",
       "    </tr>\n",
       "    <tr>\n",
       "      <th>3888</th>\n",
       "      <td>18287</td>\n",
       "      <td>4</td>\n",
       "      <td>2010-11-22</td>\n",
       "      <td>2345.71</td>\n",
       "      <td>31</td>\n",
       "      <td>4</td>\n",
       "      <td>3</td>\n",
       "      <td>5</td>\n",
       "      <td>Potential Loyalists</td>\n",
       "    </tr>\n",
       "  </tbody>\n",
       "</table>\n",
       "<p>3889 rows × 9 columns</p>\n",
       "</div>"
      ],
      "text/plain": [
       "     customer_id  order_cnt max_order_date  total_order_value   \n",
       "0          12346          5     2010-10-04             602.40  \\\n",
       "1          12608          1     2010-10-31             415.79   \n",
       "2          12745          2     2010-08-10             723.85   \n",
       "3          12746          2     2010-06-30             266.35   \n",
       "4          12747         19     2010-12-13            4094.79   \n",
       "...          ...        ...            ...                ...   \n",
       "3884       18283          6     2010-11-22             641.77   \n",
       "3885       18284          2     2010-10-06             486.68   \n",
       "3886       18285          1     2010-02-17             427.00   \n",
       "3887       18286          2     2010-08-20             941.48   \n",
       "3888       18287          4     2010-11-22            2345.71   \n",
       "\n",
       "      day_since_last_order  recency_score  frequency_score  monetary_score   \n",
       "0                       80              2                4               3  \\\n",
       "1                       53              3                1               2   \n",
       "2                      135              2                2               3   \n",
       "3                      176              1                2               2   \n",
       "4                       10              5                5               5   \n",
       "...                    ...            ...              ...             ...   \n",
       "3884                    31              4                4               3   \n",
       "3885                    78              2                2               3   \n",
       "3886                   309              1                1               2   \n",
       "3887                   125              2                2               4   \n",
       "3888                    31              4                3               5   \n",
       "\n",
       "                  segment  \n",
       "0                 At Risk  \n",
       "1          About to Sleep  \n",
       "2             Hibernating  \n",
       "3             Hibernating  \n",
       "4                Champion  \n",
       "...                   ...  \n",
       "3884      Loyal Customers  \n",
       "3885          Hibernating  \n",
       "3886          Hibernating  \n",
       "3887          Hibernating  \n",
       "3888  Potential Loyalists  \n",
       "\n",
       "[3889 rows x 9 columns]"
      ]
     },
     "execution_count": 117,
     "metadata": {},
     "output_type": "execute_result"
    }
   ],
   "source": [
    "df_user['segment'] = np.select(\n",
    "    [(df_user['recency_score']==5) & (df_user['frequency_score']>=4),\n",
    "     (df_user['recency_score'].between(3, 4)) & (df_user['frequency_score']>=4),\n",
    "     (df_user['recency_score']>=4) & (df_user['frequency_score'].between(2, 3)),\n",
    "     (df_user['recency_score']<=2) & (df_user['frequency_score']==5),\n",
    "     (df_user['recency_score']==3) & (df_user['frequency_score']==3),\n",
    "     (df_user['recency_score']==5) & (df_user['frequency_score']==1),\n",
    "     (df_user['recency_score']==4) & (df_user['frequency_score']==1),\n",
    "     (df_user['recency_score']<=2) & (df_user['frequency_score'].between(3, 4)),\n",
    "     (df_user['recency_score']==3) & (df_user['frequency_score']<=2),\n",
    "     (df_user['recency_score']<=2) & (df_user['frequency_score']<=2)],\n",
    "    ['Champion', 'Loyal Customers', 'Potential Loyalists', \"Can't Lose Them\", 'Need Attention',\n",
    "     'New Customers', 'Promising', 'At Risk', 'About to Sleep', 'Hibernating']\n",
    ")\n",
    "df_user"
   ]
  },
  {
   "cell_type": "markdown",
   "id": "b6909718",
   "metadata": {
    "id": "OURkY702EfUB",
    "papermill": {
     "duration": 0.024541,
     "end_time": "2025-02-05T18:06:30.723243",
     "exception": false,
     "start_time": "2025-02-05T18:06:30.698702",
     "status": "completed"
    },
    "tags": []
   },
   "source": [
    "### **Menampilkan Ringkasan dari Segmentasi RFM**\n",
    "\n",
    "Menampilkan ringkasan statistik dari segmentasi **RFM (Recency, Frequency, Monetary)** yang mencakup jumlah pengguna di setiap segmen, serta statistik deskriptif seperti **rata-rata** dan **median** untuk tiga metrik utama **Total Order**, **Total Order Value**, **Jumlah Hari Sejak Order Terakhir**."
   ]
  },
  {
   "cell_type": "code",
   "execution_count": 118,
   "id": "dfa37b27",
   "metadata": {
    "execution": {
     "iopub.execute_input": "2025-02-05T18:06:30.773916Z",
     "iopub.status.busy": "2025-02-05T18:06:30.773395Z",
     "iopub.status.idle": "2025-02-05T18:06:30.812256Z",
     "shell.execute_reply": "2025-02-05T18:06:30.810870Z"
    },
    "executionInfo": {
     "elapsed": 36,
     "status": "ok",
     "timestamp": 1735035604248,
     "user": {
      "displayName": "Isma Dian Damara",
      "userId": "03128721927476324285"
     },
     "user_tz": -420
    },
    "id": "cprrCKxnEtg_",
    "outputId": "88f64c6e-0d96-4447-d943-533beb5c72fa",
    "papermill": {
     "duration": 0.06563,
     "end_time": "2025-02-05T18:06:30.814221",
     "exception": false,
     "start_time": "2025-02-05T18:06:30.748591",
     "status": "completed"
    },
    "tags": []
   },
   "outputs": [
    {
     "data": {
      "text/html": [
       "<div>\n",
       "<style scoped>\n",
       "    .dataframe tbody tr th:only-of-type {\n",
       "        vertical-align: middle;\n",
       "    }\n",
       "\n",
       "    .dataframe tbody tr th {\n",
       "        vertical-align: top;\n",
       "    }\n",
       "\n",
       "    .dataframe thead tr th {\n",
       "        text-align: left;\n",
       "    }\n",
       "\n",
       "    .dataframe thead tr:last-of-type th {\n",
       "        text-align: right;\n",
       "    }\n",
       "</style>\n",
       "<table border=\"1\" class=\"dataframe\">\n",
       "  <thead>\n",
       "    <tr>\n",
       "      <th></th>\n",
       "      <th>customer_id</th>\n",
       "      <th colspan=\"2\" halign=\"left\">day_since_last_order</th>\n",
       "      <th colspan=\"2\" halign=\"left\">order_cnt</th>\n",
       "      <th colspan=\"2\" halign=\"left\">total_order_value</th>\n",
       "      <th>pct_unique</th>\n",
       "    </tr>\n",
       "    <tr>\n",
       "      <th></th>\n",
       "      <th>nunique</th>\n",
       "      <th>mean</th>\n",
       "      <th>median</th>\n",
       "      <th>mean</th>\n",
       "      <th>median</th>\n",
       "      <th>mean</th>\n",
       "      <th>median</th>\n",
       "      <th></th>\n",
       "    </tr>\n",
       "    <tr>\n",
       "      <th>segment</th>\n",
       "      <th></th>\n",
       "      <th></th>\n",
       "      <th></th>\n",
       "      <th></th>\n",
       "      <th></th>\n",
       "      <th></th>\n",
       "      <th></th>\n",
       "      <th></th>\n",
       "    </tr>\n",
       "  </thead>\n",
       "  <tbody>\n",
       "    <tr>\n",
       "      <th>About to Sleep</th>\n",
       "      <td>352</td>\n",
       "      <td>58.735795</td>\n",
       "      <td>58.0</td>\n",
       "      <td>1.417614</td>\n",
       "      <td>1.0</td>\n",
       "      <td>448.229688</td>\n",
       "      <td>334.755</td>\n",
       "      <td>9.1</td>\n",
       "    </tr>\n",
       "    <tr>\n",
       "      <th>At Risk</th>\n",
       "      <td>426</td>\n",
       "      <td>140.455399</td>\n",
       "      <td>120.0</td>\n",
       "      <td>4.136150</td>\n",
       "      <td>4.0</td>\n",
       "      <td>1153.825683</td>\n",
       "      <td>875.430</td>\n",
       "      <td>11.0</td>\n",
       "    </tr>\n",
       "    <tr>\n",
       "      <th>Can't Lose Them</th>\n",
       "      <td>64</td>\n",
       "      <td>121.984375</td>\n",
       "      <td>112.5</td>\n",
       "      <td>11.375000</td>\n",
       "      <td>9.5</td>\n",
       "      <td>2839.948125</td>\n",
       "      <td>2268.405</td>\n",
       "      <td>1.6</td>\n",
       "    </tr>\n",
       "    <tr>\n",
       "      <th>Champion</th>\n",
       "      <td>550</td>\n",
       "      <td>10.618182</td>\n",
       "      <td>9.5</td>\n",
       "      <td>15.467273</td>\n",
       "      <td>10.0</td>\n",
       "      <td>5003.674245</td>\n",
       "      <td>2775.525</td>\n",
       "      <td>14.1</td>\n",
       "    </tr>\n",
       "    <tr>\n",
       "      <th>Hibernating</th>\n",
       "      <td>1060</td>\n",
       "      <td>196.837736</td>\n",
       "      <td>199.0</td>\n",
       "      <td>1.313208</td>\n",
       "      <td>1.0</td>\n",
       "      <td>343.083842</td>\n",
       "      <td>257.005</td>\n",
       "      <td>27.3</td>\n",
       "    </tr>\n",
       "    <tr>\n",
       "      <th>Loyal Customers</th>\n",
       "      <td>546</td>\n",
       "      <td>40.864469</td>\n",
       "      <td>37.0</td>\n",
       "      <td>8.767399</td>\n",
       "      <td>7.0</td>\n",
       "      <td>2622.817826</td>\n",
       "      <td>1946.850</td>\n",
       "      <td>14.0</td>\n",
       "    </tr>\n",
       "    <tr>\n",
       "      <th>Need Attention</th>\n",
       "      <td>176</td>\n",
       "      <td>58.613636</td>\n",
       "      <td>59.0</td>\n",
       "      <td>3.397727</td>\n",
       "      <td>3.0</td>\n",
       "      <td>989.232676</td>\n",
       "      <td>826.370</td>\n",
       "      <td>4.5</td>\n",
       "    </tr>\n",
       "    <tr>\n",
       "      <th>New Customers</th>\n",
       "      <td>50</td>\n",
       "      <td>14.220000</td>\n",
       "      <td>16.0</td>\n",
       "      <td>1.000000</td>\n",
       "      <td>1.0</td>\n",
       "      <td>244.689000</td>\n",
       "      <td>193.675</td>\n",
       "      <td>1.3</td>\n",
       "    </tr>\n",
       "    <tr>\n",
       "      <th>Potential Loyalists</th>\n",
       "      <td>523</td>\n",
       "      <td>23.573614</td>\n",
       "      <td>24.0</td>\n",
       "      <td>2.829828</td>\n",
       "      <td>3.0</td>\n",
       "      <td>766.769828</td>\n",
       "      <td>622.070</td>\n",
       "      <td>13.4</td>\n",
       "    </tr>\n",
       "    <tr>\n",
       "      <th>Promising</th>\n",
       "      <td>142</td>\n",
       "      <td>32.760563</td>\n",
       "      <td>34.0</td>\n",
       "      <td>1.000000</td>\n",
       "      <td>1.0</td>\n",
       "      <td>287.800282</td>\n",
       "      <td>238.440</td>\n",
       "      <td>3.7</td>\n",
       "    </tr>\n",
       "  </tbody>\n",
       "</table>\n",
       "</div>"
      ],
      "text/plain": [
       "                    customer_id day_since_last_order         order_cnt          \n",
       "                        nunique                 mean median       mean median   \n",
       "segment                                                                         \n",
       "About to Sleep              352            58.735795   58.0   1.417614    1.0  \\\n",
       "At Risk                     426           140.455399  120.0   4.136150    4.0   \n",
       "Can't Lose Them              64           121.984375  112.5  11.375000    9.5   \n",
       "Champion                    550            10.618182    9.5  15.467273   10.0   \n",
       "Hibernating                1060           196.837736  199.0   1.313208    1.0   \n",
       "Loyal Customers             546            40.864469   37.0   8.767399    7.0   \n",
       "Need Attention              176            58.613636   59.0   3.397727    3.0   \n",
       "New Customers                50            14.220000   16.0   1.000000    1.0   \n",
       "Potential Loyalists         523            23.573614   24.0   2.829828    3.0   \n",
       "Promising                   142            32.760563   34.0   1.000000    1.0   \n",
       "\n",
       "                    total_order_value           pct_unique  \n",
       "                                 mean    median             \n",
       "segment                                                     \n",
       "About to Sleep             448.229688   334.755        9.1  \n",
       "At Risk                   1153.825683   875.430       11.0  \n",
       "Can't Lose Them           2839.948125  2268.405        1.6  \n",
       "Champion                  5003.674245  2775.525       14.1  \n",
       "Hibernating                343.083842   257.005       27.3  \n",
       "Loyal Customers           2622.817826  1946.850       14.0  \n",
       "Need Attention             989.232676   826.370        4.5  \n",
       "New Customers              244.689000   193.675        1.3  \n",
       "Potential Loyalists        766.769828   622.070       13.4  \n",
       "Promising                  287.800282   238.440        3.7  "
      ]
     },
     "execution_count": 118,
     "metadata": {},
     "output_type": "execute_result"
    }
   ],
   "source": [
    "# Membuat ringkasan data pelanggan per segmen\n",
    "summary = pd.pivot_table(df_user, index='segment',\n",
    "                         values=['customer_id','day_since_last_order','order_cnt','total_order_value'],\n",
    "                         aggfunc={'customer_id': pd.Series.nunique,\n",
    "                                  'day_since_last_order': [np.mean, np.median],\n",
    "                                  'order_cnt': [np.mean, np.median],\n",
    "                                  'total_order_value': [np.mean, np.median]})\n",
    "# Menambahkan kolom persentase pelanggan unik per segmen\n",
    "summary['pct_unique'] = (summary['customer_id'] / summary['customer_id'].sum() * 100).round(1)\n",
    "summary # Menampilkan ringkasan"
   ]
  },
  {
   "cell_type": "code",
   "execution_count": 119,
   "id": "b915a090",
   "metadata": {},
   "outputs": [
    {
     "name": "stdout",
     "output_type": "stream",
     "text": [
      "Jumlah pelanggan unik: 3889\n",
      "Rata-rata jumlah order per pelanggan: 5.128567755206994\n",
      "Rata-rata nilai order per pelanggan: 1544.6230838261765\n",
      "Rata-rata hari sejak order terakhir: 90.80071997942916\n",
      "\n",
      "Distribusi segmen pelanggan:\n",
      "segment\n",
      "Hibernating            1060\n",
      "Champion                550\n",
      "Loyal Customers         546\n",
      "Potential Loyalists     523\n",
      "At Risk                 426\n",
      "About to Sleep          352\n",
      "Need Attention          176\n",
      "Promising               142\n",
      "Can't Lose Them          64\n",
      "New Customers            50\n",
      "Name: count, dtype: int64\n"
     ]
    },
    {
     "data": {
      "image/png": "[encoded data removed]",
      "text/plain": [
       "<Figure size 1000x600 with 1 Axes>"
      ]
     },
     "metadata": {},
     "output_type": "display_data"
    }
   ],
   "source": [
    "# Analisis dasar data pelanggan\n",
    "print(\"Jumlah pelanggan unik:\", df_user['customer_id'].nunique())\n",
    "print(\"Rata-rata jumlah order per pelanggan:\", df_user['order_cnt'].mean())\n",
    "print(\"Rata-rata nilai order per pelanggan:\", df_user['total_order_value'].mean())\n",
    "print(\"Rata-rata hari sejak order terakhir:\", df_user['day_since_last_order'].mean())\n",
    "\n",
    "# Distribusi segmen pelanggan\n",
    "segment_counts = df_user['segment'].value_counts()\n",
    "print(\"\\nDistribusi segmen pelanggan:\")\n",
    "print(segment_counts)\n",
    "\n",
    "# Visualisasi distribusi segmen pelanggan\n",
    "import matplotlib.pyplot as plt\n",
    "\n",
    "plt.figure(figsize=(10,6))\n",
    "segment_counts.plot(kind='bar', color='skyblue')\n",
    "plt.title('Distribusi Segmen Pelanggan')\n",
    "plt.xlabel('Segment')\n",
    "plt.ylabel('Jumlah Pelanggan')\n",
    "plt.xticks(rotation=45)\n",
    "plt.tight_layout()\n",
    "plt.show()"
   ]
  },
  {
   "cell_type": "markdown",
   "id": "c2a4ac30",
   "metadata": {
    "id": "hZE7R7glMcJB",
    "papermill": {
     "duration": 0.025014,
     "end_time": "2025-02-05T18:06:30.863917",
     "exception": false,
     "start_time": "2025-02-05T18:06:30.838903",
     "status": "completed"
    },
    "tags": []
   },
   "source": [
    "**Insight:**\n",
    "\n",
    "Hasil analisis *RFM Segmentation* menunjukkan bahwa pelanggan dalam segmen **Champion** (550 pelanggan) dan **Loyal Customers** (546 pelanggan) adalah yang paling bernilai dengan frekuensi pembelian tinggi dan jeda waktu singkat. Fokuskan pada program loyalitas dan penawaran khusus untuk mempertahankan mereka. **Potential Loyalists** (523 pelanggan) dan **Promising** (142 pelanggan) menunjukkan potensi menjadi pelanggan setia, sehingga insentif pembelian dan promosi berkelanjutan diperlukan. **Can't Lose Them** (64 pelanggan) dan **At Risk** (426 pelanggan) perlu kampanye *win-back* karena sebelumnya aktif namun mulai menurun. Segmen **Need Attention** (176 pelanggan) membutuhkan perhatian ekstra melalui kampanye personal untuk meningkatkan keterlibatan. **New Customers** (50 pelanggan) dan **About to Sleep** (352 pelanggan) perlu didorong dengan promosi agar tetap aktif. Sementara itu, **Hibernating** (1.060 pelanggan) sudah sangat lama tidak aktif, sehingga perlu dievaluasi apakah layak dilakukan upaya retensi lebih lanjut atau difokuskan ke segmen yang lebih potensial."
   ]
  },
  {
   "cell_type": "markdown",
   "id": "52f99f3c",
   "metadata": {
    "id": "rbluCkal4x5-",
    "papermill": {
     "duration": 0.024049,
     "end_time": "2025-02-05T18:06:30.912169",
     "exception": false,
     "start_time": "2025-02-05T18:06:30.888120",
     "status": "completed"
    },
    "tags": []
   },
   "source": [
    "### **Persiapan Dataset Visualisasi Dashboard**"
   ]
  },
  {
   "cell_type": "code",
   "execution_count": 120,
   "id": "03bdfced",
   "metadata": {
    "execution": {
     "iopub.execute_input": "2025-02-05T18:06:30.963902Z",
     "iopub.status.busy": "2025-02-05T18:06:30.963556Z",
     "iopub.status.idle": "2025-02-05T18:06:30.990259Z",
     "shell.execute_reply": "2025-02-05T18:06:30.989268Z"
    },
    "id": "AHGqBn0G6SQh",
    "papermill": {
     "duration": 0.054879,
     "end_time": "2025-02-05T18:06:30.992378",
     "exception": false,
     "start_time": "2025-02-05T18:06:30.937499",
     "status": "completed"
    },
    "tags": []
   },
   "outputs": [],
   "source": [
    "df_user.to_csv('../data/customer_segmentation.csv', index=False)"
   ]
  },
  {
   "cell_type": "markdown",
   "id": "d0f097fe",
   "metadata": {
    "id": "QDENnOxB7yCU",
    "papermill": {
     "duration": 0.029173,
     "end_time": "2025-02-05T18:07:09.533615",
     "exception": false,
     "start_time": "2025-02-05T18:07:09.504442",
     "status": "completed"
    },
    "tags": []
   },
   "source": [
    "## **Kesimpulan**\n"
   ]
  },
  {
   "cell_type": "markdown",
   "id": "d4523380",
   "metadata": {
    "id": "SPxfzugQ3Qze",
    "papermill": {
     "duration": 0.028672,
     "end_time": "2025-02-05T18:07:09.592257",
     "exception": false,
     "start_time": "2025-02-05T18:07:09.563585",
     "status": "completed"
    },
    "tags": []
   },
   "source": [
    "**User Segmentation** mengidentifikasi segmen dengan loyalitas tinggi seperti **Champion** dan **Loyal Customers**, yang perlu diberikan program loyalitas. Sementara segmen seperti **At Risk** membutuhkan kampanye *win-back* untuk menarik kembali pelanggan yang menurun."
   ]
  }
 ],
 "metadata": {
  "colab": {
   "authorship_tag": "ABX9TyO1n5FP5fbXyIoODMJC+pdd",
   "mount_file_id": "1PnP-cVsrfHmrj8f26HQakoKDd2n5YmlT",
   "provenance": [],
   "toc_visible": true
  },
  "kaggle": {
   "accelerator": "none",
   "dataSources": [
    {
     "datasetId": 6610407,
     "sourceId": 10672412,
     "sourceType": "datasetVersion"
    }
   ],
   "dockerImageVersionId": 30839,
   "isGpuEnabled": false,
   "isInternetEnabled": true,
   "language": "python",
   "sourceType": "notebook"
  },
  "kernelspec": {
   "display_name": "Python 3",
   "language": "python",
   "name": "python3"
  },
  "language_info": {
   "codemirror_mode": {
    "name": "ipython",
    "version": 3
   },
   "file_extension": ".py",
   "mimetype": "text/x-python",
   "name": "python",
   "nbconvert_exporter": "python",
   "pygments_lexer": "ipython3",
   "version": "3.11.3"
  },
  "papermill": {
   "default_parameters": {},
   "duration": 58.090133,
   "end_time": "2025-02-05T18:07:10.544333",
   "environment_variables": {},
   "exception": null,
   "input_path": "__notebook__.ipynb",
   "output_path": "__notebook__.ipynb",
   "parameters": {},
   "start_time": "2025-02-05T18:06:12.454200",
   "version": "2.6.0"
  }
 },
 "nbformat": 4,
 "nbformat_minor": 5
}
